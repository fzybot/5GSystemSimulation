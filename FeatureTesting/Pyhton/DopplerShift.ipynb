{
 "cells": [
  {
   "cell_type": "markdown",
   "metadata": {},
   "source": [
    "# Doppler (from NASA)"
   ]
  },
  {
   "cell_type": "code",
   "execution_count": 1,
   "metadata": {},
   "outputs": [],
   "source": [
    "import random\n",
    "import math\n",
    "import numpy as np\n",
    "import matplotlib.pyplot as plt\n",
    "import random\n",
    "import scipy\n",
    "\n",
    "import time\n",
    "\n",
    "debugFlag = True"
   ]
  },
  {
   "cell_type": "markdown",
   "metadata": {},
   "source": [
    "# Doppler"
   ]
  },
  {
   "cell_type": "code",
   "execution_count": 2,
   "metadata": {},
   "outputs": [],
   "source": [
    "def dopplerShift(freqMHz, modulatedData, speed, angle):\n",
    "    # fd = (V*cos(a) * f0) / c\n",
    "    c = 3 * pow(10, 8)\n",
    "    freqHz = freqMHz * pow(10, 6)\n",
    "    speedMS = speed * 1000 / 3600\n",
    "    print(\"Km/h = \",speed,\"  \", \"m/s = \", speedMS)\n",
    "    dopplerFrequency = (speedMS * np.cos(angle) * freqHz) / c\n",
    "    print(dopplerFrequency)\n",
    "    shiftedData = 0\n",
    "    return shiftedData"
   ]
  },
  {
   "cell_type": "code",
   "execution_count": 3,
   "metadata": {},
   "outputs": [],
   "source": [
    "def dPrint(*argc):\n",
    "    if (debugFlag == True):\n",
    "        print(' '.join(map(str, argc)))\n",
    "        \n",
    "def aPrint(array):\n",
    "    for i in array:\n",
    "        print(i)\n",
    "        \n",
    "def checkArrays(arr1, arr2):\n",
    "    check = True\n",
    "    counter = 0\n",
    "    for i in range(len(arr1)):\n",
    "        if arr1[i] != arr2[i]:\n",
    "            dPrint(arr1[i], arr2[i])\n",
    "            counter += 1\n",
    "            check = False\n",
    "    return check, counter/len(arr1)*100"
   ]
  },
  {
   "cell_type": "markdown",
   "metadata": {},
   "source": [
    "# Modulator"
   ]
  },
  {
   "cell_type": "code",
   "execution_count": 4,
   "metadata": {},
   "outputs": [],
   "source": [
    "def encodeQPSK(bitArray):\n",
    "    if ( len(bitArray)%2 == 0 ):\n",
    "        evenFlag = True\n",
    "    else:\n",
    "        bitArray.append(0)\n",
    "        evenFlag = True\n",
    "    #dPrint(\"Even numer of bits: \",evenFlag)\n",
    "    #dPrint(\"Bit array: \", bitArray)\n",
    "    complexArray = []\n",
    "    count = 0\n",
    "    while(1):\n",
    "        real = ( 1/math.sqrt(2) ) * (1 - 2 * bitArray[count])\n",
    "        imag = ( 1/math.sqrt(2) ) * (1 - 2 * bitArray[count + 1])\n",
    "        complexArray.append(complex(real, imag))\n",
    "        count += 2\n",
    "        if(count == len(bitArray)):\n",
    "            break\n",
    "    return complexArray\n",
    "\n",
    "def decodeQPSK(complexArray):\n",
    "    bitArray = []\n",
    "    for i in range(len(complexArray)):\n",
    "        if(complexArray[i].real >= 0 and complexArray[i].imag >= 0):\n",
    "            bitArray.append(0)\n",
    "            bitArray.append(0)\n",
    "        elif ( complexArray[i].real >= 0 and complexArray[i].imag < 0 ):\n",
    "            bitArray.append(0)\n",
    "            bitArray.append(1)\n",
    "        elif ( complexArray[i].real < 0 and complexArray[i].imag < 0 ):\n",
    "            bitArray.append(1)\n",
    "            bitArray.append(1)\n",
    "        elif ( complexArray[i].real <= 0 and complexArray[i].imag > 0 ):\n",
    "            bitArray.append(1)\n",
    "            bitArray.append(0)\n",
    "    return bitArray\n",
    "\n",
    "def phaseShift(complexData, dopplerShift):\n",
    "    \n",
    "    return shiftedData"
   ]
  },
  {
   "cell_type": "markdown",
   "metadata": {},
   "source": [
    "# My FFT/IFFT"
   ]
  },
  {
   "cell_type": "code",
   "execution_count": 5,
   "metadata": {},
   "outputs": [],
   "source": [
    "start = 0\n",
    "def myDFFT(inputData):\n",
    "    outputData = []\n",
    "    N = len(inputData)\n",
    "    for i in range(start, N + start):\n",
    "        localSumm = complex(0, 0)\n",
    "        for j in range(start, N + start):\n",
    "            arg = 2 * math.pi * j * i / N\n",
    "            localSumm += inputData[j] * complex(math.cos(arg), (-1) * math.sin(arg))\n",
    "        outputData.append(localSumm)\n",
    "    return outputData\n",
    "start = 0\n",
    "def myIDFFT(inputData):\n",
    "    outputData = []\n",
    "    N = len(inputData)\n",
    "    for i in range(start, N + start):\n",
    "        localSumm = complex(0, 0)\n",
    "        for j in range(start, N + start):\n",
    "            arg = 2 * math.pi * j * i / N\n",
    "            localSumm += ( inputData[j] * complex(math.cos(arg), math.sin(arg)) / N )\n",
    "        outputData.append(localSumm)\n",
    "    return outputData\n",
    "\n",
    "def myDFFT_5g(inputData, numerology):\n",
    "    outputData = []\n",
    "    N = len(inputData)\n",
    "    for i in range(start, N + start):\n",
    "        localSumm = complex(0, 0)\n",
    "        for j in range(start, N + start):\n",
    "            arg = 2 * math.pi * j * numerology * i / N\n",
    "            localSumm += inputData[j] * complex(math.cos(arg), (-1) * math.sin(arg))\n",
    "        outputData.append(localSumm)\n",
    "    return outputData\n",
    "\n",
    "def myIDFFT_5g(inputData, numerology, doppler):\n",
    "    outputData = []\n",
    "    N = len(inputData)\n",
    "    for i in range(0, N):\n",
    "        localSumm = complex(0, 0)\n",
    "        for j in range(0, N):\n",
    "            arg = 2 * math.pi * j * numerology * doppler * i / N\n",
    "            localSumm += ( inputData[j] * complex(math.cos(arg), math.sin(arg)) / N )\n",
    "            print(\"IFFT: \", i, j, arg, localSumm)\n",
    "        outputData.append(localSumm)\n",
    "    return outputData\n",
    "\n",
    "def fastFFT(inputData, invert):\n",
    "    outputData = []\n",
    "    n = len(inputData)\n",
    "    if(n == 1):\n",
    "        return\n",
    "    return outputData"
   ]
  },
  {
   "cell_type": "markdown",
   "metadata": {},
   "source": [
    "# Testing"
   ]
  },
  {
   "cell_type": "code",
   "execution_count": 6,
   "metadata": {},
   "outputs": [
    {
     "name": "stdout",
     "output_type": "stream",
     "text": [
      "Modulated Data:  [(0.7071067811865475-0.7071067811865475j), (-0.7071067811865475+0.7071067811865475j), (0.7071067811865475-0.7071067811865475j), (0.7071067811865475-0.7071067811865475j), (-0.7071067811865475-0.7071067811865475j), (0.7071067811865475-0.7071067811865475j), (0.7071067811865475+0.7071067811865475j), (0.7071067811865475+0.7071067811865475j)]\n",
      "NumPy IFFT:  [ 0.35355339-0.1767767j   0.22855339+0.125j      -0.1767767 -0.35355339j\n",
      "  0.125     -0.375j       0.        -0.1767767j   0.47855339-0.125j\n",
      " -0.1767767 +0.j         -0.125     +0.375j     ]\n",
      "NumPy FFT:  [ 0.70710678-0.70710678j -0.70710678+0.70710678j  0.70710678-0.70710678j\n",
      "  0.70710678-0.70710678j -0.70710678-0.70710678j  0.70710678-0.70710678j\n",
      "  0.70710678+0.70710678j  0.70710678+0.70710678j]\n",
      "NumPy output bits:  [0, 1, 1, 0, 0, 1, 0, 1, 1, 1, 0, 1, 0, 0, 0, 0]\n",
      "IFFT:  0 0 0.0 (0.08838834764831843-0.08838834764831843j)\n",
      "IFFT:  0 1 0.0 0j\n",
      "IFFT:  0 2 0.0 (0.08838834764831843-0.08838834764831843j)\n",
      "IFFT:  0 3 0.0 (0.17677669529663687-0.17677669529663687j)\n",
      "IFFT:  0 4 0.0 (0.08838834764831843-0.2651650429449553j)\n",
      "IFFT:  0 5 0.0 (0.17677669529663687-0.35355339059327373j)\n",
      "IFFT:  0 6 0.0 (0.2651650429449553-0.2651650429449553j)\n",
      "IFFT:  0 7 0.0 (0.35355339059327373-0.17677669529663687j)\n",
      "IFFT:  1 0 0.0 (0.08838834764831843-0.08838834764831843j)\n",
      "IFFT:  1 1 0.7853981633974483 (-0.03661165235168155-0.08838834764831842j)\n",
      "IFFT:  1 2 1.5707963267948966 (0.05177669529663688+1.3877787807814457e-17j)\n",
      "IFFT:  1 3 2.356194490192345 (0.05177669529663689+0.125j)\n",
      "IFFT:  1 4 3.141592653589793 (0.14016504294495535+0.21338834764831843j)\n",
      "IFFT:  1 5 3.9269908169872414 (0.015165042944955354+0.21338834764831846j)\n",
      "IFFT:  1 6 4.71238898038469 (0.10355339059327377+0.125j)\n",
      "IFFT:  1 7 5.497787143782138 (0.2285533905932738+0.12499999999999997j)\n",
      "IFFT:  2 0 0.0 (0.08838834764831843-0.08838834764831843j)\n",
      "IFFT:  2 1 1.5707963267948966 -0.17677669529663687j\n",
      "IFFT:  2 2 3.141592653589793 (-0.08838834764831842-0.08838834764831842j)\n",
      "IFFT:  2 3 4.71238898038469 (-0.17677669529663687-0.17677669529663684j)\n",
      "IFFT:  2 4 6.283185307179586 (-0.26516504294495535-0.26516504294495524j)\n",
      "IFFT:  2 5 7.853981633974483 (-0.1767766952966369-0.17677669529663684j)\n",
      "IFFT:  2 6 9.42477796076938 (-0.26516504294495535-0.26516504294495524j)\n",
      "IFFT:  2 7 10.995574287564276 (-0.17677669529663698-0.35355339059327373j)\n",
      "IFFT:  3 0 0.0 (0.08838834764831843-0.08838834764831843j)\n",
      "IFFT:  3 1 2.356194490192345 (0.08838834764831842-0.21338834764831843j)\n",
      "IFFT:  3 2 4.71238898038469 (-2.7755575615628914e-17-0.30177669529663687j)\n",
      "IFFT:  3 3 7.0685834705770345 (0.12499999999999997-0.3017766952966369j)\n",
      "IFFT:  3 4 9.42477796076938 (0.21338834764831843-0.21338834764831852j)\n",
      "IFFT:  3 5 11.780972450961723 (0.21338834764831827-0.3383883476483185j)\n",
      "IFFT:  3 6 14.137166941154069 (0.12499999999999989-0.25j)\n",
      "IFFT:  3 7 16.493361431346415 (0.12499999999999992-0.375j)\n",
      "IFFT:  4 0 0.0 (0.08838834764831843-0.08838834764831843j)\n",
      "IFFT:  4 1 3.141592653589793 (0.17677669529663687-0.17677669529663687j)\n",
      "IFFT:  4 2 6.283185307179586 (0.26516504294495524-0.26516504294495535j)\n",
      "IFFT:  4 3 9.42477796076938 (0.17677669529663684-0.1767766952966369j)\n",
      "IFFT:  4 4 12.566370614359172 (0.08838834764831836-0.2651650429449553j)\n",
      "IFFT:  4 5 15.707963267948966 (-1.3877787807814457e-17-0.1767766952966368j)\n",
      "IFFT:  4 6 18.84955592153876 (0.08838834764831849-0.08838834764831845j)\n",
      "IFFT:  4 7 21.991148575128552 (-1.3877787807814457e-17-0.1767766952966368j)\n",
      "IFFT:  5 0 0.0 (0.08838834764831843-0.08838834764831843j)\n",
      "IFFT:  5 1 3.9269908169872414 (0.21338834764831843-0.08838834764831846j)\n",
      "IFFT:  5 2 7.853981633974483 (0.30177669529663687-5.551115123125783e-17j)\n",
      "IFFT:  5 3 11.780972450961723 (0.3017766952966367-0.12500000000000006j)\n",
      "IFFT:  5 4 15.707963267948966 (0.3901650429449552-0.03661165235168168j)\n",
      "IFFT:  5 5 19.634954084936208 (0.5151650429449551-0.036611652351681664j)\n",
      "IFFT:  5 6 23.561944901923447 (0.6035533905932733-0.12500000000000033j)\n",
      "IFFT:  5 7 27.48893571891069 (0.4785533905932733-0.12500000000000008j)\n",
      "IFFT:  6 0 0.0 (0.08838834764831843-0.08838834764831843j)\n",
      "IFFT:  6 1 4.71238898038469 (0.17677669529663687-1.3877787807814457e-17j)\n",
      "IFFT:  6 2 9.42477796076938 (0.08838834764831846+0.08838834764831845j)\n",
      "IFFT:  6 3 14.137166941154069 (0.17677669529663695+0.1767766952966368j)\n",
      "IFFT:  6 4 18.84955592153876 (0.08838834764831845+0.08838834764831845j)\n",
      "IFFT:  6 5 23.561944901923447 (-2.220446049250313e-16+2.498001805406602e-16j)\n",
      "IFFT:  6 6 28.274333882308138 (-0.08838834764831875-0.08838834764831809j)\n",
      "IFFT:  6 7 32.98672286269283 (-0.17677669529663723+3.0531133177191805e-16j)\n",
      "IFFT:  7 0 0.0 (0.08838834764831843-0.08838834764831843j)\n",
      "IFFT:  7 1 5.497787143782138 (0.08838834764831846+0.03661165235168157j)\n",
      "IFFT:  7 2 10.995574287564276 (-1.3877787807814457e-17-0.051776695296636824j)\n",
      "IFFT:  7 3 16.493361431346415 (-0.125-0.05177669529663686j)\n",
      "IFFT:  7 4 21.991148575128552 (-0.0366116523516815+0.036611652351681505j)\n",
      "IFFT:  7 5 27.48893571891069 (-0.036611652351681255+0.16161165235168148j)\n",
      "IFFT:  7 6 32.98672286269283 (-0.12499999999999972+0.2499999999999999j)\n",
      "IFFT:  7 7 38.48451000647496 (-0.12499999999999921+0.3749999999999999j)\n",
      "Input bits:  [0, 1, 1, 0, 0, 1, 0, 1, 1, 1, 0, 1, 0, 0, 0, 0]\n",
      "After IFFT:  [(0.35355339059327373-0.17677669529663687j), (0.2285533905932738+0.12499999999999997j), (-0.17677669529663698-0.35355339059327373j), (0.12499999999999992-0.375j), (-1.3877787807814457e-17-0.1767766952966368j), (0.4785533905932733-0.12500000000000008j), (-0.17677669529663723+3.0531133177191805e-16j), (-0.12499999999999921+0.3749999999999999j)]\n",
      "After FFT:  [(0.7071067811865471-0.7071067811865474j), (-0.7071067811865468+0.7071067811865475j), (0.7071067811865483-0.7071067811865467j), (0.7071067811865466-0.7071067811865464j), (-0.7071067811865479-0.7071067811865475j), (0.707106781186547-0.707106781186547j), (0.7071067811865467+0.7071067811865464j), (0.7071067811865477+0.7071067811865474j)]\n",
      "Output bits:  [0, 1, 1, 0, 0, 1, 0, 1, 1, 1, 0, 1, 0, 0, 0, 0]\n"
     ]
    },
    {
     "data": {
      "text/plain": [
       "(True, 0.0)"
      ]
     },
     "execution_count": 6,
     "metadata": {},
     "output_type": "execute_result"
    }
   ],
   "source": [
    "centerFreq = 2600 # GHz\n",
    "bandwidth = 30 # kHz\n",
    "numerology = 1 #15000 # Hz\n",
    "nSubcarriers = round( (bandwidth * 1000) / numerology )\n",
    "dataString = [0, 1, 1, 0, 0, 1, 0, 1, 1, 1, 0, 1, 0, 0, 0]\n",
    "#dataString = [random.randint(0,1) for i in range(20)]\n",
    "nSymbolsInSlot = 7\n",
    "\n",
    "\n",
    "modulatedData = encodeQPSK(dataString)\n",
    "print(\"Modulated Data: \", modulatedData)\n",
    "# Numpy FFT\n",
    "ifftData = np.fft.ifft(modulatedData)\n",
    "fftData = np.fft.fft(ifftData)\n",
    "demodulatedData = decodeQPSK(fftData)\n",
    "print(\"NumPy IFFT: \", ifftData)\n",
    "print(\"NumPy FFT: \", fftData)\n",
    "print(\"NumPy output bits: \", demodulatedData)\n",
    "\n",
    "# # My FFT\n",
    "# myIFFT = myIDFFT(modulatedData)\n",
    "# myFFT = myDFFT(myIFFT)\n",
    "# demodulatedData = decodeQPSK(myFFT)\n",
    "\n",
    "# Doppler check\n",
    "dopplerIFFTData = myIDFFT_5g(modulatedData, numerology, 1)\n",
    "dopplerFFTData = myDFFT_5g(dopplerIFFTData, numerology)\n",
    "demodulatedDopplerData = decodeQPSK(dopplerFFTData)\n",
    "print(\"Input bits: \", dataString)\n",
    "print(\"After IFFT: \", dopplerIFFTData)\n",
    "print(\"After FFT: \", dopplerFFTData)\n",
    "print(\"Output bits: \", demodulatedDopplerData)\n",
    "checkArrays(dataString, demodulatedDopplerData)"
   ]
  },
  {
   "cell_type": "markdown",
   "metadata": {},
   "source": [
    "# Plots"
   ]
  },
  {
   "cell_type": "code",
   "execution_count": 7,
   "metadata": {},
   "outputs": [
    {
     "data": {
      "image/png": "[encoded data removed]",
      "text/plain": [
       "<Figure size 1080x576 with 2 Axes>"
      ]
     },
     "metadata": {
      "needs_background": "light"
     },
     "output_type": "display_data"
    },
    {
     "data": {
      "image/png": "[encoded data removed]",
      "text/plain": [
       "<Figure size 1080x576 with 1 Axes>"
      ]
     },
     "metadata": {
      "needs_background": "light"
     },
     "output_type": "display_data"
    },
    {
     "data": {
      "text/plain": [
       "0"
      ]
     },
     "execution_count": 7,
     "metadata": {},
     "output_type": "execute_result"
    }
   ],
   "source": [
    "import matplotlib.pyplot as plt\n",
    "\n",
    "def showSignal(inputTime, inputFreq):\n",
    "    real = []\n",
    "    imag = []\n",
    "    for i in range(len(inputTime)):\n",
    "        real.append(inputTime[i].real)\n",
    "        imag.append(inputTime[i].imag)\n",
    "    t = np.arange(len(inputTime))\n",
    "    fig, axs = plt.subplots(2, 1, figsize=(15, 8))\n",
    "    axs[0].plot(t, real, t, imag)\n",
    "    axs[0].set_xlim(0, 2)\n",
    "    axs[0].set_xlabel('time')\n",
    "    axs[0].set_ylabel('real && imag')\n",
    "    axs[0].grid(True)\n",
    "\n",
    "    realFreq = []\n",
    "    imagFreq = []\n",
    "    for i in range(len(inputFreq)):\n",
    "        realFreq.append(inputFreq[i].real)\n",
    "        imagFreq.append(inputFreq[i].imag)\n",
    "    axs[1].scatter(realFreq, imagFreq)\n",
    "    axs[1].set_ylabel('Modulation')\n",
    "\n",
    "    fig.tight_layout()\n",
    "    plt.show()\n",
    "    return 0\n",
    "\n",
    "def showScatter(inputFreq):\n",
    "    realFreq = []\n",
    "    imagFreq = []\n",
    "    for i in range(len(inputFreq)):\n",
    "        realFreq.append(inputFreq[i].real)\n",
    "        imagFreq.append(inputFreq[i].imag)\n",
    "    #cxy, f = \n",
    "    fig, axs = plt.subplots(1, 1, figsize=(15, 8))\n",
    "    axs.scatter(realFreq, imagFreq)\n",
    "    axs.set_ylabel('Modulation')\n",
    "\n",
    "    fig.tight_layout()\n",
    "    plt.show()\n",
    "    return 0\n",
    "\n",
    "showSignal(dopplerIFFTData, modulatedData)\n",
    "showScatter(modulatedData)"
   ]
  },
  {
   "cell_type": "code",
   "execution_count": null,
   "metadata": {},
   "outputs": [],
   "source": []
  },
  {
   "cell_type": "markdown",
   "metadata": {},
   "source": [
    "# FFT functions from NumPy sourcecode"
   ]
  },
  {
   "cell_type": "code",
   "execution_count": 8,
   "metadata": {},
   "outputs": [],
   "source": [
    "def fft(a, n=None, axis=-1, norm=None):\n",
    "    \"\"\"\n",
    "    Examples\n",
    "    --------\n",
    "    >>> np.fft.fft(np.exp(2j * np.pi * np.arange(8) / 8))\n",
    "    array([-2.33486982e-16+1.14423775e-17j,  8.00000000e+00-1.25557246e-15j,\n",
    "            2.33486982e-16+2.33486982e-16j,  0.00000000e+00+1.22464680e-16j,\n",
    "           -1.14423775e-17+2.33486982e-16j,  0.00000000e+00+5.20784380e-16j,\n",
    "            1.14423775e-17+1.14423775e-17j,  0.00000000e+00+1.22464680e-16j])\n",
    "    In this example, real input has an FFT which is Hermitian, i.e., symmetric\n",
    "    in the real part and anti-symmetric in the imaginary part, as described in\n",
    "    the `numpy.fft` documentation:\n",
    "    >>> import matplotlib.pyplot as plt\n",
    "    >>> t = np.arange(256)\n",
    "    >>> sp = np.fft.fft(np.sin(t))\n",
    "    >>> freq = np.fft.fftfreq(t.shape[-1])\n",
    "    >>> plt.plot(freq, sp.real, freq, sp.imag)\n",
    "    [<matplotlib.lines.Line2D object at 0x...>, <matplotlib.lines.Line2D object at 0x...>]\n",
    "    >>> plt.show()\n",
    "    \"\"\"\n",
    "    a = asarray(a)\n",
    "    if n is None:\n",
    "        n = a.shape[axis]\n",
    "    inv_norm = _get_forward_norm(n, norm)\n",
    "    output = _raw_fft(a, n, axis, False, True, inv_norm)\n",
    "    return output\n",
    "\n",
    "def ifft(a, n=None, axis=-1, norm=None):\n",
    "    \"\"\"\n",
    "    Examples\n",
    "    --------\n",
    "    >>> np.fft.ifft([0, 4, 0, 0])\n",
    "    array([ 1.+0.j,  0.+1.j, -1.+0.j,  0.-1.j]) # may vary\n",
    "    Create and plot a band-limited signal with random phases:\n",
    "    >>> import matplotlib.pyplot as plt\n",
    "    >>> t = np.arange(400)\n",
    "    >>> n = np.zeros((400,), dtype=complex)\n",
    "    >>> n[40:60] = np.exp(1j*np.random.uniform(0, 2*np.pi, (20,)))\n",
    "    >>> s = np.fft.ifft(n)\n",
    "    >>> plt.plot(t, s.real, label='real')\n",
    "    [<matplotlib.lines.Line2D object at ...>]\n",
    "    >>> plt.plot(t, s.imag, '--', label='imaginary')\n",
    "    [<matplotlib.lines.Line2D object at ...>]\n",
    "    >>> plt.legend()\n",
    "    <matplotlib.legend.Legend object at ...>\n",
    "    >>> plt.show()\n",
    "    \"\"\"\n",
    "    a = asarray(a)\n",
    "    if n is None:\n",
    "        n = a.shape[axis]\n",
    "    inv_norm = _get_backward_norm(n, norm)\n",
    "    output = _raw_fft(a, n, axis, False, False, inv_norm)\n",
    "    return output\n",
    "\n",
    "def _get_forward_norm(n, norm):\n",
    "    if n < 1:\n",
    "        raise ValueError(f\"Invalid number of FFT data points ({n}) specified.\")\n",
    "\n",
    "    if norm is None or norm == \"backward\":\n",
    "        return 1\n",
    "    elif norm == \"ortho\":\n",
    "        return sqrt(n)\n",
    "    elif norm == \"forward\":\n",
    "        return n\n",
    "    raise ValueError(f'Invalid norm value {norm}; should be \"backward\",'\n",
    "                     '\"ortho\" or \"forward\".')\n",
    "    \n",
    "def _get_backward_norm(n, norm):\n",
    "    if n < 1:\n",
    "        raise ValueError(f\"Invalid number of FFT data points ({n}) specified.\")\n",
    "\n",
    "    if norm is None or norm == \"backward\":\n",
    "        return n\n",
    "    elif norm == \"ortho\":\n",
    "        return sqrt(n)\n",
    "    elif norm == \"forward\":\n",
    "        return 1\n",
    "    raise ValueError(f'Invalid norm value {norm}; should be \"backward\", '\n",
    "                     '\"ortho\" or \"forward\".')\n",
    "    \n",
    "def _raw_fft(a, n, axis, is_real, is_forward, inv_norm):\n",
    "    axis = normalize_axis_index(axis, a.ndim)\n",
    "    if n is None:\n",
    "        n = a.shape[axis]\n",
    "\n",
    "    fct = 1/inv_norm\n",
    "\n",
    "    if a.shape[axis] != n:\n",
    "        s = list(a.shape)\n",
    "        index = [slice(None)]*len(s)\n",
    "        if s[axis] > n:\n",
    "            index[axis] = slice(0, n)\n",
    "            a = a[tuple(index)]\n",
    "        else:\n",
    "            index[axis] = slice(0, s[axis])\n",
    "            s[axis] = n\n",
    "            z = zeros(s, a.dtype.char)\n",
    "            z[tuple(index)] = a\n",
    "            a = z\n",
    "\n",
    "    if axis == a.ndim-1:\n",
    "        r = pfi.execute(a, is_real, is_forward, fct)\n",
    "    else:\n",
    "        a = swapaxes(a, axis, -1)\n",
    "        r = pfi.execute(a, is_real, is_forward, fct)\n",
    "        r = swapaxes(r, axis, -1)\n",
    "    return r"
   ]
  },
  {
   "cell_type": "markdown",
   "metadata": {},
   "source": [
    "# Install Packages"
   ]
  },
  {
   "cell_type": "code",
   "execution_count": 9,
   "metadata": {},
   "outputs": [
    {
     "name": "stdout",
     "output_type": "stream",
     "text": [
      "Requirement already satisfied: scipy in /home/ruslan/.local/lib/python3.8/site-packages (1.7.0)\n",
      "Requirement already satisfied: numpy<1.23.0,>=1.16.5 in /home/ruslan/.local/lib/python3.8/site-packages (from scipy) (1.21.0)\n"
     ]
    }
   ],
   "source": [
    "# Install a pip package in the current Jupyter kernel\n",
    "import sys\n",
    "!{sys.executable} -m pip install scipy"
   ]
  },
  {
   "cell_type": "code",
   "execution_count": null,
   "metadata": {},
   "outputs": [],
   "source": []
  }
 ],
 "metadata": {
  "interpreter": {
   "hash": "31f2aee4e71d21fbe5cf8b01ff0e069b9275f58929596ceb00d14d90e3e16cd6"
  },
  "kernelspec": {
   "display_name": "Python 3.8.10 64-bit",
   "name": "python3"
  },
  "language_info": {
   "codemirror_mode": {
    "name": "ipython",
    "version": 3
   },
   "file_extension": ".py",
   "mimetype": "text/x-python",
   "name": "python",
   "nbconvert_exporter": "python",
   "pygments_lexer": "ipython3",
   "version": "3.8.10"
  }
 },
 "nbformat": 4,
 "nbformat_minor": 2
}
