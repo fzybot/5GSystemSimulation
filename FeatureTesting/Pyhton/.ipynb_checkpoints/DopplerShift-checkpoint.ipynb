{
 "cells": [
  {
   "cell_type": "markdown",
   "metadata": {},
   "source": [
    "# Doppler (from NASA)"
   ]
  },
  {
   "cell_type": "code",
   "execution_count": 1,
   "metadata": {},
   "outputs": [],
   "source": [
    "import random\n",
    "import numpy\n",
    "import numpy as np\n",
    "import matplotlib.pyplot as plt\n",
    "import random\n",
    "import scipy"
   ]
  },
  {
   "cell_type": "code",
   "execution_count": null,
   "metadata": {},
   "outputs": [],
   "source": [
    "def QPSK(data):\n",
    "    "
   ]
  },
  {
   "cell_type": "code",
   "execution_count": 3,
   "metadata": {},
   "outputs": [
    {
     "data": {
      "text/plain": [
       "6.666666666666667e-05"
      ]
     },
     "execution_count": 3,
     "metadata": {},
     "output_type": "execute_result"
    }
   ],
   "source": [
    "centerFreq = 2600 # GHz\n",
    "bandwidth = 30 # kHz\n",
    "numerology = 15 # kHz\n",
    "nSubcarriers = round( (bandwidth * 1000) / numerology )\n",
    "dataString = [0,1,1,1,0,0,0,1,0,1,1,0,1,0,1,0,1,1,1,0]\n",
    "nSymbolsInSlot = 7\n",
    "\n",
    "\n"
   ]
  },
  {
   "cell_type": "code",
   "execution_count": 49,
   "metadata": {},
   "outputs": [],
   "source": [
    "def dopplerShift(freqMHz, data, speed, angle):\n",
    "    # fd = (V*cos(a) * f0) / c\n",
    "    c = 3 * pow(10, 8)\n",
    "    freqHz = freqMHz * pow(10, 6)\n",
    "    speedMS = speed * 1000 / 3600\n",
    "    print(\"Km/h = \",speed,\"  \", \"m/s = \", speedMS)\n",
    "    dopplerFrequency = (speedMS * np.cos(angle) * freqHz) / c\n",
    "    print(dopplerFrequency)\n",
    "    shiftedData = 0\n",
    "    return shiftedData"
   ]
  },
  {
   "cell_type": "markdown",
   "metadata": {},
   "source": [
    "# Install Packages"
   ]
  },
  {
   "cell_type": "code",
   "execution_count": 6,
   "metadata": {},
   "outputs": [
    {
     "name": "stdout",
     "output_type": "stream",
     "text": [
      "Collecting bokeh\n",
      "\u001b[?25l  Downloading https://files.pythonhosted.org/packages/40/85/9c8c47dc99671590e21d0cecf5cf1208db0ddb525093b2fecdbb233e3645/bokeh-2.3.3.tar.gz (10.7MB)\n",
      "\u001b[K     |████████████████████████████████| 10.7MB 6.8MB/s eta 0:00:01\n",
      "\u001b[?25hCollecting PyYAML>=3.10 (from bokeh)\n",
      "\u001b[?25l  Downloading https://files.pythonhosted.org/packages/7a/a5/393c087efdc78091afa2af9f1378762f9821c9c1d7a22c5753fb5ac5f97a/PyYAML-5.4.1-cp37-cp37m-manylinux1_x86_64.whl (636kB)\n",
      "\u001b[K     |████████████████████████████████| 645kB 11.1MB/s eta 0:00:01\n",
      "\u001b[?25hRequirement already satisfied: python-dateutil>=2.1 in /snap/jupyter/6/lib/python3.7/site-packages (from bokeh) (2.8.0)\n",
      "Requirement already satisfied: Jinja2>=2.9 in /snap/jupyter/6/lib/python3.7/site-packages (from bokeh) (2.10.1)\n",
      "Requirement already satisfied: numpy>=1.11.3 in /home/ruslan/snap/jupyter/common/lib/python3.7/site-packages (from bokeh) (1.21.0)\n",
      "Requirement already satisfied: pillow>=7.1.0 in /home/ruslan/snap/jupyter/common/lib/python3.7/site-packages (from bokeh) (8.3.1)\n",
      "Collecting packaging>=16.8 (from bokeh)\n",
      "\u001b[?25l  Downloading https://files.pythonhosted.org/packages/3c/77/e2362b676dc5008d81be423070dd9577fa03be5da2ba1105811900fda546/packaging-21.0-py3-none-any.whl (40kB)\n",
      "\u001b[K     |████████████████████████████████| 40kB 10.6MB/s eta 0:00:01\n",
      "\u001b[?25hRequirement already satisfied: tornado>=5.1 in /snap/jupyter/6/lib/python3.7/site-packages (from bokeh) (6.0.2)\n",
      "Collecting typing_extensions>=3.7.4 (from bokeh)\n",
      "  Downloading https://files.pythonhosted.org/packages/2e/35/6c4fff5ab443b57116cb1aad46421fb719bed2825664e8fe77d66d99bcbc/typing_extensions-3.10.0.0-py3-none-any.whl\n",
      "Requirement already satisfied: six>=1.5 in /snap/jupyter/6/lib/python3.7/site-packages (from python-dateutil>=2.1->bokeh) (1.12.0)\n",
      "Requirement already satisfied: MarkupSafe>=0.23 in /snap/jupyter/6/lib/python3.7/site-packages (from Jinja2>=2.9->bokeh) (1.1.1)\n",
      "Requirement already satisfied: pyparsing>=2.0.2 in /home/ruslan/snap/jupyter/common/lib/python3.7/site-packages (from packaging>=16.8->bokeh) (2.4.7)\n",
      "Building wheels for collected packages: bokeh\n",
      "  Building wheel for bokeh (setup.py) ... \u001b[?25ldone\n",
      "\u001b[?25h  Stored in directory: /home/ruslan/snap/jupyter/6/.cache/pip/wheels/29/25/bd/ece99a9f4f1fdc59da3a94d1cd3e220c1c32624f19e4c19969\n",
      "Successfully built bokeh\n",
      "Installing collected packages: PyYAML, packaging, typing-extensions, bokeh\n",
      "Successfully installed PyYAML-5.4.1 bokeh-2.3.3 packaging-21.0 typing-extensions-3.10.0.0\n"
     ]
    }
   ],
   "source": [
    "# Install a pip package in the current Jupyter kernel\n",
    "import sys\n",
    "!{sys.executable} -m pip install bokeh"
   ]
  },
  {
   "cell_type": "code",
   "execution_count": null,
   "metadata": {},
   "outputs": [],
   "source": []
  }
 ],
 "metadata": {
  "kernelspec": {
   "display_name": "Python 3",
   "language": "python",
   "name": "python3"
  },
  "language_info": {
   "codemirror_mode": {
    "name": "ipython",
    "version": 3
   },
   "file_extension": ".py",
   "mimetype": "text/x-python",
   "name": "python",
   "nbconvert_exporter": "python",
   "pygments_lexer": "ipython3",
   "version": "3.7.3"
  }
 },
 "nbformat": 4,
 "nbformat_minor": 2
}
