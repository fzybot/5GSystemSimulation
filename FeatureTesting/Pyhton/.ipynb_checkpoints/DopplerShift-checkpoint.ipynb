{
 "cells": [
  {
   "cell_type": "markdown",
   "metadata": {},
   "source": [
    "# Doppler (from NASA)"
   ]
  },
  {
   "cell_type": "code",
   "execution_count": 1,
   "metadata": {},
   "outputs": [],
   "source": [
    "import random\n",
    "import math\n",
    "import numpy as np\n",
    "import matplotlib.pyplot as plt\n",
    "import random\n",
    "import scipy\n",
    "\n",
    "import time\n",
    "\n",
    "debugFlag = True"
   ]
  },
  {
   "cell_type": "markdown",
   "metadata": {},
   "source": [
    "# Doppler"
   ]
  },
  {
   "cell_type": "code",
   "execution_count": 2,
   "metadata": {},
   "outputs": [],
   "source": [
    "def dopplerShift(freqMHz, data, speed, angle):\n",
    "    # fd = (V*cos(a) * f0) / c\n",
    "    c = 3 * pow(10, 8)\n",
    "    freqHz = freqMHz * pow(10, 6)\n",
    "    speedMS = speed * 1000 / 3600\n",
    "    print(\"Km/h = \",speed,\"  \", \"m/s = \", speedMS)\n",
    "    dopplerFrequency = (speedMS * np.cos(angle) * freqHz) / c\n",
    "    print(dopplerFrequency)\n",
    "    shiftedData = 0\n",
    "    return shiftedData"
   ]
  },
  {
   "cell_type": "code",
   "execution_count": 11,
   "metadata": {},
   "outputs": [],
   "source": [
    "def dPrint(*argc):\n",
    "    if (debugFlag == True):\n",
    "        print(' '.join(map(str, argc)))\n",
    "        \n",
    "def aPrint(array):\n",
    "    for i in array:\n",
    "        print(i)\n",
    "        \n",
    "def checkArrays(arr1, arr2):\n",
    "    if (arr1 == arr2):\n",
    "        return True\n",
    "    else:\n",
    "        return False"
   ]
  },
  {
   "cell_type": "markdown",
   "metadata": {},
   "source": [
    "# Modulator"
   ]
  },
  {
   "cell_type": "code",
   "execution_count": 87,
   "metadata": {},
   "outputs": [],
   "source": [
    "def encodeQPSK(bitArray):\n",
    "    if ( len(bitArray)%2 == 0 ):\n",
    "        evenFlag = True\n",
    "    else:\n",
    "        bitArray.append(0)\n",
    "        evenFlag = True\n",
    "    dPrint(\"Even numer of bits: \",evenFlag)\n",
    "    dPrint(\"Bit array: \", bitArray)\n",
    "    complexArray = []\n",
    "    count = 0\n",
    "    while(1):\n",
    "        real = ( 1/math.sqrt(2) ) * (1 - 2 * bitArray[count])\n",
    "        imag = ( 1/math.sqrt(2) ) * (1 - 2 * bitArray[count + 1])\n",
    "        complexArray.append(complex(real, imag))\n",
    "        count += 2\n",
    "        if(count == len(bitArray)):\n",
    "            break\n",
    "    return complexArray\n",
    "\n",
    "def decodeQPSK(complexArray):\n",
    "    bitArray = []\n",
    "    for i in range(len(complexArray)):\n",
    "        if(complexArray[i].real >= 0 and complexArray[i].imag >= 0):\n",
    "            bitArray.append(0)\n",
    "            bitArray.append(0)\n",
    "        elif ( complexArray[i].real >= 0 and complexArray[i].imag < 0 ):\n",
    "            bitArray.append(0)\n",
    "            bitArray.append(1)\n",
    "        elif ( complexArray[i].real < 0 and complexArray[i].imag < 0 ):\n",
    "            bitArray.append(1)\n",
    "            bitArray.append(1)\n",
    "        elif ( complexArray[i].real <= 0 and complexArray[i].imag > 0 ):\n",
    "            bitArray.append(1)\n",
    "            bitArray.append(0)\n",
    "    return bitArray"
   ]
  },
  {
   "cell_type": "markdown",
   "metadata": {},
   "source": [
    "# My FFT/IFFT"
   ]
  },
  {
   "cell_type": "code",
   "execution_count": 130,
   "metadata": {},
   "outputs": [],
   "source": [
    "roundValue = 16\n",
    "start = 0\n",
    "def myDFFT(inputData):\n",
    "    outputData = []\n",
    "    N = len(inputData)\n",
    "    for i in range(start, N + start):\n",
    "        localSumm = complex(0, 0)\n",
    "        real = 0\n",
    "        imag = 0\n",
    "        for j in range(start, N + start):\n",
    "            arg = 2 * math.pi * j * i / N\n",
    "            #real += inputData[j-start].real * math.cos(arg)\n",
    "            #imag += inputData[j-start].imag * math.sin(arg)\n",
    "            localSumm += inputData[j] * complex(math.cos(arg), math.sin(arg))\n",
    "        outputData.append(localSumm)\n",
    "        #outputData.append( complex(real, (-1) * imag) )\n",
    "    return outputData\n",
    "\n",
    "def myIDFFT(inputData):\n",
    "    outputData = []\n",
    "    N = len(inputData)\n",
    "    for i in range(start, N + start):\n",
    "        localSumm = complex(0, 0)\n",
    "        real = 0\n",
    "        imag = 0\n",
    "        for j in range(start, N + start):\n",
    "            arg = 2 * math.pi * j * i / N\n",
    "            #real += inputData[j-start].real * math.cos(arg)\n",
    "            #imag += inputData[j-start].imag * math.sin(arg)\n",
    "            localSumm += ( inputData[j] * complex(math.cos(arg), math.sin(arg)) / N )\n",
    "        #print(\"localSumm: \", localSumm)\n",
    "        outputData.append(localSumm)\n",
    "        #outputData.append( math.sqrt( real*real + imag*imag ) / len(inputData) )\n",
    "        #outputData.append( complex(real/len(inputData), imag/len(inputData)) )\n",
    "        #outputData.append(complex(real, imag))\n",
    "    return outputData"
   ]
  },
  {
   "cell_type": "markdown",
   "metadata": {},
   "source": [
    "# Testing"
   ]
  },
  {
   "cell_type": "code",
   "execution_count": 131,
   "metadata": {},
   "outputs": [
    {
     "name": "stdout",
     "output_type": "stream",
     "text": [
      "Modulated Data: \n",
      "Even numer of bits:  True\n",
      "Bit array:  [0, 1, 1, 1, 0, 0, 0, 1, 0, 1, 1, 0, 1, 0, 1, 0, 1, 1, 1, 0, 1, 0]\n",
      "(0.7071067811865475-0.7071067811865475j)\n",
      "(-0.7071067811865475-0.7071067811865475j)\n",
      "(0.7071067811865475+0.7071067811865475j)\n",
      "(0.7071067811865475-0.7071067811865475j)\n",
      "(0.7071067811865475-0.7071067811865475j)\n",
      "(-0.7071067811865475+0.7071067811865475j)\n",
      "(-0.7071067811865475+0.7071067811865475j)\n",
      "(-0.7071067811865475+0.7071067811865475j)\n",
      "(-0.7071067811865475-0.7071067811865475j)\n",
      "(-0.7071067811865475+0.7071067811865475j)\n",
      "(-0.7071067811865475+0.7071067811865475j)\n",
      "numpy ifft: \n",
      "[-0.1928473 +0.06428243j  0.24615413+0.22543077j -0.10759054+0.01672389j\n",
      "  0.36353489-0.4088996j   0.2284505 -0.15885494j  0.1252104 +0.02047732j\n",
      "  0.28666202+0.1990599j  -0.03831701-0.11579906j -0.02999247-0.24157917j\n",
      " -0.08697145+0.14935255j -0.08718639-0.45730089j]\n",
      "numpy fft: \n",
      "[ 0.70710678-0.70710678j -0.70710678-0.70710678j  0.70710678+0.70710678j\n",
      "  0.70710678-0.70710678j  0.70710678-0.70710678j -0.70710678+0.70710678j\n",
      " -0.70710678+0.70710678j -0.70710678+0.70710678j -0.70710678-0.70710678j\n",
      " -0.70710678+0.70710678j -0.70710678+0.70710678j]\n",
      "My IFFT: \n",
      "(-0.19284730395996752+0.06428243465332252j)\n",
      "(0.24615413419794477+0.22543077019853353j)\n",
      "(-0.10759053841591812+0.016723891521859963j)\n",
      "(0.36353488826040636-0.4088995968466749j)\n",
      "(0.22845049707759885-0.15885493580848706j)\n",
      "(0.12521040273956502+0.020477322557094536j)\n",
      "(0.2866620212398664+0.19905990132210416j)\n",
      "(-0.03831701213270799-0.11579905795933672j)\n",
      "(-0.029992472440300975-0.24157917302342458j)\n",
      "(-0.08697144699103683+0.14935254833520953j)\n",
      "(-0.08718638838890505-0.4573008861367485j)\n",
      "My FFT: \n",
      "(0.7071067811865448-0.7071067811865476j)\n",
      "(-0.7071067811865467+0.7071067811865491j)\n",
      "(-0.7071067811865464+0.7071067811865468j)\n",
      "(-0.7071067811865486-0.7071067811865444j)\n",
      "(-0.7071067811865456+0.7071067811865466j)\n",
      "(-0.7071067811865481+0.7071067811865482j)\n",
      "(-0.7071067811865426+0.7071067811865468j)\n",
      "(0.7071067811865483-0.7071067811865499j)\n",
      "(0.7071067811865465-0.7071067811865488j)\n",
      "(0.7071067811865471+0.7071067811865452j)\n",
      "(-0.7071067811865492-0.7071067811865441j)\n"
     ]
    }
   ],
   "source": [
    "centerFreq = 2600 # GHz\n",
    "bandwidth = 30 # kHz\n",
    "numerology = 15 # kHz\n",
    "nSubcarriers = round( (bandwidth * 1000) / numerology )\n",
    "dataString = [0,1,1,1,0,0,0,1,0,1,1,0,1,0,1,0,1,1,1,0,1]\n",
    "#dataString = [random.randint(0,1) for i in range(1000)]\n",
    "nSymbolsInSlot = 7\n",
    "\n",
    "print(\"Modulated Data: \")\n",
    "modulatedData = encodeQPSK(dataString)\n",
    "aPrint(modulatedData)\n",
    "\n",
    "# Numpy FFT\n",
    "print(\"numpy ifft: \")\n",
    "ifftData = np.fft.ifft(modulatedData)\n",
    "print(ifftData)\n",
    "print(\"numpy fft: \")\n",
    "fftData = np.fft.fft(ifftData)\n",
    "print(fftData)\n",
    "demodulatedData = decodeQPSK(fftData)\n",
    "checkArrays(dataString, demodulatedData)\n",
    "\n",
    "# My FFT\n",
    "print(\"My IFFT: \")\n",
    "myIFFT = myIDFFT(modulatedData)\n",
    "aPrint(myIFFT)\n",
    "print(\"My FFT: \")\n",
    "myFFT = myDFFT(myIFFT)\n",
    "aPrint(myFFT)"
   ]
  },
  {
   "cell_type": "markdown",
   "metadata": {},
   "source": [
    "# Plots"
   ]
  },
  {
   "cell_type": "code",
   "execution_count": 131,
   "metadata": {},
   "outputs": [
    {
     "data": {
      "image/png": "[encoded data removed]",
      "text/plain": [
       "<Figure size 1080x576 with 2 Axes>"
      ]
     },
     "metadata": {
      "needs_background": "light"
     },
     "output_type": "display_data"
    },
    {
     "data": {
      "image/png": "[encoded data removed]",
      "text/plain": [
       "<Figure size 1080x576 with 1 Axes>"
      ]
     },
     "metadata": {
      "needs_background": "light"
     },
     "output_type": "display_data"
    },
    {
     "data": {
      "text/plain": [
       "0"
      ]
     },
     "execution_count": 131,
     "metadata": {},
     "output_type": "execute_result"
    }
   ],
   "source": [
    "import matplotlib.pyplot as plt\n",
    "\n",
    "def showSignal(inputTime, inputFreq):\n",
    "    real = []\n",
    "    imag = []\n",
    "    for i in range(len(inputTime)):\n",
    "        real.append(inputTime[i].real)\n",
    "        imag.append(inputTime[i].imag)\n",
    "    t = np.arange(len(inputTime))\n",
    "    fig, axs = plt.subplots(2, 1, figsize=(15, 8))\n",
    "    axs[0].plot(t, real, t, imag)\n",
    "    axs[0].set_xlim(0, 2)\n",
    "    axs[0].set_xlabel('time')\n",
    "    axs[0].set_ylabel('real && imag')\n",
    "    axs[0].grid(True)\n",
    "\n",
    "    realFreq = []\n",
    "    imagFreq = []\n",
    "    for i in range(len(inputFreq)):\n",
    "        realFreq.append(inputFreq[i].real)\n",
    "        imagFreq.append(inputFreq[i].imag)\n",
    "    #cxy, f = \n",
    "    axs[1].scatter(realFreq, imagFreq)\n",
    "    axs[1].set_ylabel('Modulation')\n",
    "\n",
    "    fig.tight_layout()\n",
    "    plt.show()\n",
    "    return 0\n",
    "\n",
    "def showScatter(inputFreq):\n",
    "    realFreq = []\n",
    "    imagFreq = []\n",
    "    for i in range(len(inputFreq)):\n",
    "        realFreq.append(inputFreq[i].real)\n",
    "        imagFreq.append(inputFreq[i].imag)\n",
    "    #cxy, f = \n",
    "    fig, axs = plt.subplots(1, 1, figsize=(15, 8))\n",
    "    axs.scatter(realFreq, imagFreq)\n",
    "    axs.set_ylabel('Modulation')\n",
    "\n",
    "    fig.tight_layout()\n",
    "    plt.show()\n",
    "    return 0\n",
    "\n",
    "showSignal(ifftData, modulatedData)\n",
    "showScatter(modulatedData)"
   ]
  },
  {
   "cell_type": "code",
   "execution_count": null,
   "metadata": {},
   "outputs": [],
   "source": []
  },
  {
   "cell_type": "markdown",
   "metadata": {},
   "source": [
    "# FFT functions from NumPy sourcecode"
   ]
  },
  {
   "cell_type": "code",
   "execution_count": null,
   "metadata": {},
   "outputs": [],
   "source": [
    "def fft(a, n=None, axis=-1, norm=None):\n",
    "    \"\"\"\n",
    "    Examples\n",
    "    --------\n",
    "    >>> np.fft.fft(np.exp(2j * np.pi * np.arange(8) / 8))\n",
    "    array([-2.33486982e-16+1.14423775e-17j,  8.00000000e+00-1.25557246e-15j,\n",
    "            2.33486982e-16+2.33486982e-16j,  0.00000000e+00+1.22464680e-16j,\n",
    "           -1.14423775e-17+2.33486982e-16j,  0.00000000e+00+5.20784380e-16j,\n",
    "            1.14423775e-17+1.14423775e-17j,  0.00000000e+00+1.22464680e-16j])\n",
    "    In this example, real input has an FFT which is Hermitian, i.e., symmetric\n",
    "    in the real part and anti-symmetric in the imaginary part, as described in\n",
    "    the `numpy.fft` documentation:\n",
    "    >>> import matplotlib.pyplot as plt\n",
    "    >>> t = np.arange(256)\n",
    "    >>> sp = np.fft.fft(np.sin(t))\n",
    "    >>> freq = np.fft.fftfreq(t.shape[-1])\n",
    "    >>> plt.plot(freq, sp.real, freq, sp.imag)\n",
    "    [<matplotlib.lines.Line2D object at 0x...>, <matplotlib.lines.Line2D object at 0x...>]\n",
    "    >>> plt.show()\n",
    "    \"\"\"\n",
    "    a = asarray(a)\n",
    "    if n is None:\n",
    "        n = a.shape[axis]\n",
    "    inv_norm = _get_forward_norm(n, norm)\n",
    "    output = _raw_fft(a, n, axis, False, True, inv_norm)\n",
    "    return output\n",
    "\n",
    "def ifft(a, n=None, axis=-1, norm=None):\n",
    "    \"\"\"\n",
    "    Examples\n",
    "    --------\n",
    "    >>> np.fft.ifft([0, 4, 0, 0])\n",
    "    array([ 1.+0.j,  0.+1.j, -1.+0.j,  0.-1.j]) # may vary\n",
    "    Create and plot a band-limited signal with random phases:\n",
    "    >>> import matplotlib.pyplot as plt\n",
    "    >>> t = np.arange(400)\n",
    "    >>> n = np.zeros((400,), dtype=complex)\n",
    "    >>> n[40:60] = np.exp(1j*np.random.uniform(0, 2*np.pi, (20,)))\n",
    "    >>> s = np.fft.ifft(n)\n",
    "    >>> plt.plot(t, s.real, label='real')\n",
    "    [<matplotlib.lines.Line2D object at ...>]\n",
    "    >>> plt.plot(t, s.imag, '--', label='imaginary')\n",
    "    [<matplotlib.lines.Line2D object at ...>]\n",
    "    >>> plt.legend()\n",
    "    <matplotlib.legend.Legend object at ...>\n",
    "    >>> plt.show()\n",
    "    \"\"\"\n",
    "    a = asarray(a)\n",
    "    if n is None:\n",
    "        n = a.shape[axis]\n",
    "    inv_norm = _get_backward_norm(n, norm)\n",
    "    output = _raw_fft(a, n, axis, False, False, inv_norm)\n",
    "    return output\n",
    "\n",
    "def _get_forward_norm(n, norm):\n",
    "    if n < 1:\n",
    "        raise ValueError(f\"Invalid number of FFT data points ({n}) specified.\")\n",
    "\n",
    "    if norm is None or norm == \"backward\":\n",
    "        return 1\n",
    "    elif norm == \"ortho\":\n",
    "        return sqrt(n)\n",
    "    elif norm == \"forward\":\n",
    "        return n\n",
    "    raise ValueError(f'Invalid norm value {norm}; should be \"backward\",'\n",
    "                     '\"ortho\" or \"forward\".')\n",
    "    \n",
    "def _get_backward_norm(n, norm):\n",
    "    if n < 1:\n",
    "        raise ValueError(f\"Invalid number of FFT data points ({n}) specified.\")\n",
    "\n",
    "    if norm is None or norm == \"backward\":\n",
    "        return n\n",
    "    elif norm == \"ortho\":\n",
    "        return sqrt(n)\n",
    "    elif norm == \"forward\":\n",
    "        return 1\n",
    "    raise ValueError(f'Invalid norm value {norm}; should be \"backward\", '\n",
    "                     '\"ortho\" or \"forward\".')\n",
    "    \n",
    "def _raw_fft(a, n, axis, is_real, is_forward, inv_norm):\n",
    "    axis = normalize_axis_index(axis, a.ndim)\n",
    "    if n is None:\n",
    "        n = a.shape[axis]\n",
    "\n",
    "    fct = 1/inv_norm\n",
    "\n",
    "    if a.shape[axis] != n:\n",
    "        s = list(a.shape)\n",
    "        index = [slice(None)]*len(s)\n",
    "        if s[axis] > n:\n",
    "            index[axis] = slice(0, n)\n",
    "            a = a[tuple(index)]\n",
    "        else:\n",
    "            index[axis] = slice(0, s[axis])\n",
    "            s[axis] = n\n",
    "            z = zeros(s, a.dtype.char)\n",
    "            z[tuple(index)] = a\n",
    "            a = z\n",
    "\n",
    "    if axis == a.ndim-1:\n",
    "        r = pfi.execute(a, is_real, is_forward, fct)\n",
    "    else:\n",
    "        a = swapaxes(a, axis, -1)\n",
    "        r = pfi.execute(a, is_real, is_forward, fct)\n",
    "        r = swapaxes(r, axis, -1)\n",
    "    return r"
   ]
  },
  {
   "cell_type": "markdown",
   "metadata": {},
   "source": [
    "# Install Packages"
   ]
  },
  {
   "cell_type": "code",
   "execution_count": 6,
   "metadata": {},
   "outputs": [
    {
     "name": "stdout",
     "output_type": "stream",
     "text": [
      "Collecting bokeh\n",
      "\u001b[?25l  Downloading https://files.pythonhosted.org/packages/40/85/9c8c47dc99671590e21d0cecf5cf1208db0ddb525093b2fecdbb233e3645/bokeh-2.3.3.tar.gz (10.7MB)\n",
      "\u001b[K     |████████████████████████████████| 10.7MB 6.8MB/s eta 0:00:01\n",
      "\u001b[?25hCollecting PyYAML>=3.10 (from bokeh)\n",
      "\u001b[?25l  Downloading https://files.pythonhosted.org/packages/7a/a5/393c087efdc78091afa2af9f1378762f9821c9c1d7a22c5753fb5ac5f97a/PyYAML-5.4.1-cp37-cp37m-manylinux1_x86_64.whl (636kB)\n",
      "\u001b[K     |████████████████████████████████| 645kB 11.1MB/s eta 0:00:01\n",
      "\u001b[?25hRequirement already satisfied: python-dateutil>=2.1 in /snap/jupyter/6/lib/python3.7/site-packages (from bokeh) (2.8.0)\n",
      "Requirement already satisfied: Jinja2>=2.9 in /snap/jupyter/6/lib/python3.7/site-packages (from bokeh) (2.10.1)\n",
      "Requirement already satisfied: numpy>=1.11.3 in /home/ruslan/snap/jupyter/common/lib/python3.7/site-packages (from bokeh) (1.21.0)\n",
      "Requirement already satisfied: pillow>=7.1.0 in /home/ruslan/snap/jupyter/common/lib/python3.7/site-packages (from bokeh) (8.3.1)\n",
      "Collecting packaging>=16.8 (from bokeh)\n",
      "\u001b[?25l  Downloading https://files.pythonhosted.org/packages/3c/77/e2362b676dc5008d81be423070dd9577fa03be5da2ba1105811900fda546/packaging-21.0-py3-none-any.whl (40kB)\n",
      "\u001b[K     |████████████████████████████████| 40kB 10.6MB/s eta 0:00:01\n",
      "\u001b[?25hRequirement already satisfied: tornado>=5.1 in /snap/jupyter/6/lib/python3.7/site-packages (from bokeh) (6.0.2)\n",
      "Collecting typing_extensions>=3.7.4 (from bokeh)\n",
      "  Downloading https://files.pythonhosted.org/packages/2e/35/6c4fff5ab443b57116cb1aad46421fb719bed2825664e8fe77d66d99bcbc/typing_extensions-3.10.0.0-py3-none-any.whl\n",
      "Requirement already satisfied: six>=1.5 in /snap/jupyter/6/lib/python3.7/site-packages (from python-dateutil>=2.1->bokeh) (1.12.0)\n",
      "Requirement already satisfied: MarkupSafe>=0.23 in /snap/jupyter/6/lib/python3.7/site-packages (from Jinja2>=2.9->bokeh) (1.1.1)\n",
      "Requirement already satisfied: pyparsing>=2.0.2 in /home/ruslan/snap/jupyter/common/lib/python3.7/site-packages (from packaging>=16.8->bokeh) (2.4.7)\n",
      "Building wheels for collected packages: bokeh\n",
      "  Building wheel for bokeh (setup.py) ... \u001b[?25ldone\n",
      "\u001b[?25h  Stored in directory: /home/ruslan/snap/jupyter/6/.cache/pip/wheels/29/25/bd/ece99a9f4f1fdc59da3a94d1cd3e220c1c32624f19e4c19969\n",
      "Successfully built bokeh\n",
      "Installing collected packages: PyYAML, packaging, typing-extensions, bokeh\n",
      "Successfully installed PyYAML-5.4.1 bokeh-2.3.3 packaging-21.0 typing-extensions-3.10.0.0\n"
     ]
    }
   ],
   "source": [
    "# Install a pip package in the current Jupyter kernel\n",
    "import sys\n",
    "!{sys.executable} -m pip install bokeh"
   ]
  },
  {
   "cell_type": "code",
   "execution_count": null,
   "metadata": {},
   "outputs": [],
   "source": []
  }
 ],
 "metadata": {
  "kernelspec": {
   "display_name": "Python 3",
   "language": "python",
   "name": "python3"
  },
  "language_info": {
   "codemirror_mode": {
    "name": "ipython",
    "version": 3
   },
   "file_extension": ".py",
   "mimetype": "text/x-python",
   "name": "python",
   "nbconvert_exporter": "python",
   "pygments_lexer": "ipython3",
   "version": "3.7.3"
  }
 },
 "nbformat": 4,
 "nbformat_minor": 2
}
