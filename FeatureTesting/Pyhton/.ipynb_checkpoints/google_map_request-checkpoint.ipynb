{
 "cells": [
  {
   "cell_type": "code",
   "execution_count": 12,
   "id": "54e0afe1",
   "metadata": {},
   "outputs": [
    {
     "name": "stdout",
     "output_type": "stream",
     "text": [
      "<!DOCTYPE html><html><head><link rel=\"icon\" href=\"https://www.gstatic.com/earth/00-favicon.ico\"></head><body style=\"background-color:#000\"><script>/*\n",
      "\n",
      " Copyright The Closure Library Authors.\n",
      " SPDX-License-Identifier: Apache-2.0\n",
      "*/\n",
      "'use strict';var c=\"function\"==typeof Object.create?Object.create:function(a){var b=function(){};b.prototype=a;return new b},d;if(\"function\"==typeof Object.setPrototypeOf)d=Object.setPrototypeOf;else{var e;a:{var f={a:!0},g={};try{g.__proto__=f;e=g.a;break a}catch(a){}e=!1}d=e?function(a,b){a.__proto__=b;if(a.__proto__!==b)throw new TypeError(a+\" is not extensible\");return a}:null}var h=d;var k={};var l=function(){},m=function(a,b){if(b!==k)throw Error(\"Bad secret\");this.g=a};m.prototype=c(l.prototype);m.prototype.constructor=m;if(h)h(m,l);else for(var n in l)if(\"prototype\"!=n)if(Object.defineProperties){var p=Object.getOwnPropertyDescriptor(l,n);p&&Object.defineProperty(m,n,p)}else m[n]=l[n];m.prototype.toString=function(){return this.g};var q=new m(\"about:invalid#zTSz\",k);var r=function(a){this.h=a};function t(a){return new r(function(b){return b.substr(0,a.length+1).toLowerCase()===a+\":\"})}var u=[t(\"data\"),t(\"http\"),t(\"https\"),t(\"mailto\"),t(\"ftp\"),new r(function(a){return/^[^:]*([/?#]|$)/.test(a)})];var w=function(a,b){this.g=b===v?a:\"\"};w.prototype.toString=function(){return this.g.toString()};var v={};function x(a){if(a instanceof l)if(a instanceof m)a=a.g;else throw Error(\"wrong type\");else a=a instanceof w&&a.constructor===w?a.g:\"type_error:SafeUrl\";return a};var y=window.location,z=((new RegExp(\"^[_\\\\-\\\\/A-Za-z0-9]*(current|\"+\"9.139.0.0\".replace(\".\",\"\\\\.\").replace(\"-\",\"\\\\-\")+\")\\\\/(index[_\\\\-A-Za-z0-9v]*\\\\.html)?\")).test(window.location.pathname)?\"app_min.html\":\"9.139.0.0/app_min.html\")+window.location.search+window.location.hash,A;A=void 0===A?u:A;var B;a:{var C=A;C=void 0===C?u:C;for(var D=0;D<C.length;++D){var E=C[D];if(E instanceof r&&E.h(z)){B=new m(z,k);break a}}B=void 0}y.replace(x(B||q));\n",
      "</script></body></html>\n"
     ]
    }
   ],
   "source": [
    "import requests\n",
    "import urllib\n",
    "import pandas as pd\n",
    "\n",
    "# USGS Elevation Point Query Service\n",
    "url = r'https://nationalmap.gov/epqs/pqs.php?'\n",
    "\n",
    "# coordinates with known elevation \n",
    "lat = [82.950208, 82.950663]\n",
    "lon = [55.013337, 55.013150]\n",
    "\n",
    "# create data frame\n",
    "df = pd.DataFrame({\n",
    "    'lat': lat,\n",
    "    'lon': lon\n",
    "})\n",
    "\n",
    "def elevation_function(df, lat_column, lon_column):\n",
    "    \"\"\"Query service using lat, lon. add the elevation values as a new column.\"\"\"\n",
    "    elevations = []\n",
    "    for lat, lon in zip(df[lat_column], df[lon_column]):\n",
    "\n",
    "        # define rest query params\n",
    "        params = {\n",
    "            'output': 'json',\n",
    "            'x': lon,\n",
    "            'y': lat,\n",
    "            'units': 'Meters'\n",
    "        }\n",
    "\n",
    "        # format query string and return query value\n",
    "        result = requests.get((url + urllib.parse.urlencode(params)))\n",
    "        elevations.append(result.json()['USGS_Elevation_Point_Query_Service']['Elevation_Query']['Elevation'])\n",
    "\n",
    "    df['elev_meters'] = elevations\n",
    "\n",
    "elevation_function(df, 'lat', 'lon')\n",
    "df.head()\n"
   ]
  },
  {
   "cell_type": "code",
   "execution_count": 16,
   "id": "9eb97854",
   "metadata": {},
   "outputs": [
    {
     "name": "stdout",
     "output_type": "stream",
     "text": [
      "b'<!DOCTYPE html><html><head><link rel=\"icon\" href=\"https://www.gstatic.com/earth/00-favicon.ico\"></head><body style=\"background-color:#000\"><script>/*\\n\\n Copyright The Closure Library Authors.\\n SPDX-License-Identifier: Apache-2.0\\n*/\\n\\'use strict\\';var c=\"function\"==typeof Object.create?Object.create:function(a){var b=function(){};b.prototype=a;return new b},d;if(\"function\"==typeof Object.setPrototypeOf)d=Object.setPrototypeOf;else{var e;a:{var f={a:!0},g={};try{g.__proto__=f;e=g.a;break a}catch(a){}e=!1}d=e?function(a,b){a.__proto__=b;if(a.__proto__!==b)throw new TypeError(a+\" is not extensible\");return a}:null}var h=d;var k={};var l=function(){},m=function(a,b){if(b!==k)throw Error(\"Bad secret\");this.g=a};m.prototype=c(l.prototype);m.prototype.constructor=m;if(h)h(m,l);else for(var n in l)if(\"prototype\"!=n)if(Object.defineProperties){var p=Object.getOwnPropertyDescriptor(l,n);p&&Object.defineProperty(m,n,p)}else m[n]=l[n];m.prototype.toString=function(){return this.g};var q=new m(\"about:invalid#zTSz\",k);var r=function(a){this.h=a};function t(a){return new r(function(b){return b.substr(0,a.length+1).toLowerCase()===a+\":\"})}var u=[t(\"data\"),t(\"http\"),t(\"https\"),t(\"mailto\"),t(\"ftp\"),new r(function(a){return/^[^:]*([/?#]|$)/.test(a)})];var w=function(a,b){this.g=b===v?a:\"\"};w.prototype.toString=function(){return this.g.toString()};var v={};function x(a){if(a instanceof l)if(a instanceof m)a=a.g;else throw Error(\"wrong type\");else a=a instanceof w&&a.constructor===w?a.g:\"type_error:SafeUrl\";return a};var y=window.location,z=((new RegExp(\"^[_\\\\\\\\-\\\\\\\\/A-Za-z0-9]*(current|\"+\"9.139.0.0\".replace(\".\",\"\\\\\\\\.\").replace(\"-\",\"\\\\\\\\-\")+\")\\\\\\\\/(index[_\\\\\\\\-A-Za-z0-9v]*\\\\\\\\.html)?\")).test(window.location.pathname)?\"app_min.html\":\"9.139.0.0/app_min.html\")+window.location.search+window.location.hash,A;A=void 0===A?u:A;var B;a:{var C=A;C=void 0===C?u:C;for(var D=0;D<C.length;++D){var E=C[D];if(E instanceof r&&E.h(z)){B=new m(z,k);break a}}B=void 0}y.replace(x(B||q));\\n</script></body></html>'\n"
     ]
    }
   ],
   "source": [
    "from fake_useragent import UserAgent\n",
    "import requests\n",
    "import urllib\n",
    "from bs4 import BeautifulSoup\n",
    "\n",
    "ua = 'Mozilla/5.0 (X11; Linux x86_64) AppleWebKit/537.36 (KHTML, like Gecko) Chrome/91.0.4472.106 Safari/537.36'\n",
    "url = 'https://earth.google.com/web/@55.0133609,82.95021825,161.52390139a,221.55833434d,35y,-0.05610614h,0.06723836t,-0r/data=CiQSIhIgZDY1OGRjYWIzNjlhMTFlOGFjNmU2OWJjN2I2ZDI2Y2E'\n",
    "res = requests.get(url, headers={'User-Agent': ua})\n",
    "print(res)"
   ]
  },
  {
   "cell_type": "code",
   "execution_count": 5,
   "id": "3b658e3c",
   "metadata": {},
   "outputs": [
    {
     "name": "stderr",
     "output_type": "stream",
     "text": [
      "\n",
      "\n",
      "====== WebDriver manager ======\n",
      "Current google-chrome version is 91.0.4472\n",
      "Driver [/home/ruslan/.wdm/drivers/chromedriver/linux64/91.0.4472.19/chromedriver] found in cache\n"
     ]
    }
   ],
   "source": [
    "from selenium import webdriver\n",
    "from webdriver_manager.chrome import ChromeDriverManager\n",
    "from selenium.webdriver.common.keys import Keys\n",
    "import time\n",
    "import pyautogui\n",
    "\n",
    "\n",
    "#url = 'https://earth.google.com/web/@55.01307508,82.95062982,160.60168314a,3198.03588862d,35y,359.9581162h,0t,0r/data=CjkSNxIgZDY1OGRjYWIzNjlhMTFlOGFjNmU2OWJjN2I2ZDI2Y2EiE2xheWVyXzNkY292ZXJfcGFuZWw'\n",
    "url = 'https://earth.google.com/web/@55.01204508,82.95062982,160.60168314a,3198.03588862d,35y,359.9581162h,0t,0r/data=CjkSNxIgZDY1OGRjYWIzNjlhMTFlOGFjNmU2OWJjN2I2ZDI2Y2EiE2xheWVyXzNkY292ZXJfcGFuZWw'\n",
    "driver = webdriver.Chrome(ChromeDriverManager(version=\"91.0.4472.19\").install())\n",
    "driver.get(url)\n",
    "time.sleep(10)\n",
    "pyautogui.press('ESC')\n",
    "for i in range(12):\n",
    "    pyautogui.press('TAB')\n",
    "    time.sleep(1)\n",
    "for i in range(50):\n",
    "    pyautogui.press('right')\n",
    "pyautogui.press('left')\n",
    "# item = driver.execute_script(\"document.getElementById('pointer-information')\")\n",
    "# print(item)\n",
    "\n",
    "#driver.page_source\n",
    "#driver.find_element_by_id(\"pointer-information\")\n",
    "#driver.find_element_by_xpath(\"/html/body/earth-app//paper-drawer-panel/div/div/earth-view-status//div[7]/span/span[2]\")\n"
   ]
  },
  {
   "cell_type": "code",
   "execution_count": 20,
   "id": "c0707dd3",
   "metadata": {},
   "outputs": [
    {
     "name": "stderr",
     "output_type": "stream",
     "text": [
      "\n",
      "\n",
      "====== WebDriver manager ======\n",
      "Current google-chrome version is 91.0.4472\n",
      "Driver [/home/ruslan/.wdm/drivers/chromedriver/linux64/91.0.4472.19/chromedriver] found in cache\n"
     ]
    }
   ],
   "source": [
    "from selenium import webdriver\n",
    "driver = webdriver.Chrome(ChromeDriverManager(version=\"91.0.4472.19\").install())\n",
    "driver.get(\"http://stackoverflow.com/questions/7794087/running-javascript-in-selenium-using-python\") \n",
    "item = driver.execute_script(\"document.getElementsByClassName('comment-user')[0]\")\n"
   ]
  },
  {
   "cell_type": "code",
   "execution_count": 29,
   "id": "441ea098",
   "metadata": {},
   "outputs": [
    {
     "name": "stderr",
     "output_type": "stream",
     "text": [
      "\n",
      "\n",
      "====== WebDriver manager ======\n",
      "Current google-chrome version is 91.0.4472\n",
      "Driver [/home/ruslan/.wdm/drivers/chromedriver/linux64/91.0.4472.19/chromedriver] found in cache\n"
     ]
    },
    {
     "ename": "AttributeError",
     "evalue": "'WebDriver' object has no attribute 'find_element_by_class'",
     "output_type": "error",
     "traceback": [
      "\u001b[0;31m---------------------------------------------------------------------------\u001b[0m",
      "\u001b[0;31mAttributeError\u001b[0m                            Traceback (most recent call last)",
      "\u001b[0;32m<ipython-input-29-75e66143181f>\u001b[0m in \u001b[0;36m<module>\u001b[0;34m\u001b[0m\n\u001b[1;32m      8\u001b[0m \u001b[0mdriver\u001b[0m\u001b[0;34m.\u001b[0m\u001b[0mget\u001b[0m\u001b[0;34m(\u001b[0m\u001b[0murl\u001b[0m\u001b[0;34m)\u001b[0m\u001b[0;34m\u001b[0m\u001b[0;34m\u001b[0m\u001b[0m\n\u001b[1;32m      9\u001b[0m \u001b[0mtime\u001b[0m\u001b[0;34m.\u001b[0m\u001b[0msleep\u001b[0m\u001b[0;34m(\u001b[0m\u001b[0;36m10\u001b[0m\u001b[0;34m)\u001b[0m\u001b[0;34m\u001b[0m\u001b[0;34m\u001b[0m\u001b[0m\n\u001b[0;32m---> 10\u001b[0;31m \u001b[0mdriver\u001b[0m\u001b[0;34m.\u001b[0m\u001b[0mfind_element_by_class\u001b[0m\u001b[0;34m(\u001b[0m\u001b[0;34m\"leaflet-popup-content\"\u001b[0m\u001b[0;34m)\u001b[0m\u001b[0;34m\u001b[0m\u001b[0;34m\u001b[0m\u001b[0m\n\u001b[0m\u001b[1;32m     11\u001b[0m \u001b[0;31m# item = driver.execute_script(\"document.getElementById('pointer-information')\")\u001b[0m\u001b[0;34m\u001b[0m\u001b[0;34m\u001b[0m\u001b[0;34m\u001b[0m\u001b[0m\n\u001b[1;32m     12\u001b[0m \u001b[0;31m# print(item)\u001b[0m\u001b[0;34m\u001b[0m\u001b[0;34m\u001b[0m\u001b[0;34m\u001b[0m\u001b[0m\n",
      "\u001b[0;31mAttributeError\u001b[0m: 'WebDriver' object has no attribute 'find_element_by_class'"
     ]
    }
   ],
   "source": [
    "from selenium import webdriver\n",
    "from webdriver_manager.chrome import ChromeDriverManager\n",
    "from selenium.webdriver.common.keys import Keys\n",
    "import time\n",
    "\n",
    "url = 'https://www.calcmaps.com/ru/map-elevation/'\n",
    "driver = webdriver.Chrome(ChromeDriverManager(version=\"91.0.4472.19\").install())\n",
    "driver.get(url)\n",
    "time.sleep(10)\n",
    "driver.find_element_by_class(\"leaflet-popup-content\")\n",
    "# item = driver.execute_script(\"document.getElementById('pointer-information')\")\n",
    "# print(item)\n",
    "\n",
    "#driver.page_source\n",
    "#driver.find_element_by_id(\"pointer-information\")\n",
    "#driver.find_element_by_xpath(\"/html/body/earth-app//paper-drawer-panel/div/div/earth-view-status//div[7]/span/span[2]\")\n"
   ]
  },
  {
   "cell_type": "code",
   "execution_count": 1,
   "id": "4ff7a119",
   "metadata": {},
   "outputs": [],
   "source": [
    "import pyautogui\n",
    "\n",
    "\n",
    "pyautogui.press('F1')"
   ]
  },
  {
   "cell_type": "code",
   "execution_count": null,
   "id": "c9510e7d",
   "metadata": {},
   "outputs": [],
   "source": []
  }
 ],
 "metadata": {
  "kernelspec": {
   "display_name": "Python 3",
   "language": "python",
   "name": "python3"
  },
  "language_info": {
   "codemirror_mode": {
    "name": "ipython",
    "version": 3
   },
   "file_extension": ".py",
   "mimetype": "text/x-python",
   "name": "python",
   "nbconvert_exporter": "python",
   "pygments_lexer": "ipython3",
   "version": "3.8.10"
  }
 },
 "nbformat": 4,
 "nbformat_minor": 5
}
