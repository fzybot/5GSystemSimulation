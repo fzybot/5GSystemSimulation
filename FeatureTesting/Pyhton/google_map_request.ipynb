{
 "cells": [
  {
   "cell_type": "code",
   "execution_count": 12,
   "metadata": {},
   "outputs": [
    {
     "name": "stdout",
     "output_type": "stream",
     "text": [
      "<!DOCTYPE html><html><head><link rel=\"icon\" href=\"https://www.gstatic.com/earth/00-favicon.ico\"></head><body style=\"background-color:#000\"><script>/*\n",
      "\n",
      " Copyright The Closure Library Authors.\n",
      " SPDX-License-Identifier: Apache-2.0\n",
      "*/\n",
      "'use strict';var c=\"function\"==typeof Object.create?Object.create:function(a){var b=function(){};b.prototype=a;return new b},d;if(\"function\"==typeof Object.setPrototypeOf)d=Object.setPrototypeOf;else{var e;a:{var f={a:!0},g={};try{g.__proto__=f;e=g.a;break a}catch(a){}e=!1}d=e?function(a,b){a.__proto__=b;if(a.__proto__!==b)throw new TypeError(a+\" is not extensible\");return a}:null}var h=d;var k={};var l=function(){},m=function(a,b){if(b!==k)throw Error(\"Bad secret\");this.g=a};m.prototype=c(l.prototype);m.prototype.constructor=m;if(h)h(m,l);else for(var n in l)if(\"prototype\"!=n)if(Object.defineProperties){var p=Object.getOwnPropertyDescriptor(l,n);p&&Object.defineProperty(m,n,p)}else m[n]=l[n];m.prototype.toString=function(){return this.g};var q=new m(\"about:invalid#zTSz\",k);var r=function(a){this.h=a};function t(a){return new r(function(b){return b.substr(0,a.length+1).toLowerCase()===a+\":\"})}var u=[t(\"data\"),t(\"http\"),t(\"https\"),t(\"mailto\"),t(\"ftp\"),new r(function(a){return/^[^:]*([/?#]|$)/.test(a)})];var w=function(a,b){this.g=b===v?a:\"\"};w.prototype.toString=function(){return this.g.toString()};var v={};function x(a){if(a instanceof l)if(a instanceof m)a=a.g;else throw Error(\"wrong type\");else a=a instanceof w&&a.constructor===w?a.g:\"type_error:SafeUrl\";return a};var y=window.location,z=((new RegExp(\"^[_\\\\-\\\\/A-Za-z0-9]*(current|\"+\"9.139.0.0\".replace(\".\",\"\\\\.\").replace(\"-\",\"\\\\-\")+\")\\\\/(index[_\\\\-A-Za-z0-9v]*\\\\.html)?\")).test(window.location.pathname)?\"app_min.html\":\"9.139.0.0/app_min.html\")+window.location.search+window.location.hash,A;A=void 0===A?u:A;var B;a:{var C=A;C=void 0===C?u:C;for(var D=0;D<C.length;++D){var E=C[D];if(E instanceof r&&E.h(z)){B=new m(z,k);break a}}B=void 0}y.replace(x(B||q));\n",
      "</script></body></html>\n"
     ]
    }
   ],
   "source": [
    "import requests\n",
    "import urllib\n",
    "import pandas as pd\n",
    "\n",
    "# USGS Elevation Point Query Service\n",
    "url = r'https://nationalmap.gov/epqs/pqs.php?'\n",
    "\n",
    "# coordinates with known elevation \n",
    "lat = [82.950208, 82.950663]\n",
    "lon = [55.013337, 55.013150]\n",
    "\n",
    "# create data frame\n",
    "df = pd.DataFrame({\n",
    "    'lat': lat,\n",
    "    'lon': lon\n",
    "})\n",
    "\n",
    "def elevation_function(df, lat_column, lon_column):\n",
    "    \"\"\"Query service using lat, lon. add the elevation values as a new column.\"\"\"\n",
    "    elevations = []\n",
    "    for lat, lon in zip(df[lat_column], df[lon_column]):\n",
    "\n",
    "        # define rest query params\n",
    "        params = {\n",
    "            'output': 'json',\n",
    "            'x': lon,\n",
    "            'y': lat,\n",
    "            'units': 'Meters'\n",
    "        }\n",
    "\n",
    "        # format query string and return query value\n",
    "        result = requests.get((url + urllib.parse.urlencode(params)))\n",
    "        elevations.append(result.json()['USGS_Elevation_Point_Query_Service']['Elevation_Query']['Elevation'])\n",
    "\n",
    "    df['elev_meters'] = elevations\n",
    "\n",
    "elevation_function(df, 'lat', 'lon')\n",
    "df.head()\n"
   ]
  },
  {
   "cell_type": "code",
   "execution_count": 16,
   "metadata": {},
   "outputs": [
    {
     "name": "stdout",
     "output_type": "stream",
     "text": [
      "b'<!DOCTYPE html><html><head><link rel=\"icon\" href=\"https://www.gstatic.com/earth/00-favicon.ico\"></head><body style=\"background-color:#000\"><script>/*\\n\\n Copyright The Closure Library Authors.\\n SPDX-License-Identifier: Apache-2.0\\n*/\\n\\'use strict\\';var c=\"function\"==typeof Object.create?Object.create:function(a){var b=function(){};b.prototype=a;return new b},d;if(\"function\"==typeof Object.setPrototypeOf)d=Object.setPrototypeOf;else{var e;a:{var f={a:!0},g={};try{g.__proto__=f;e=g.a;break a}catch(a){}e=!1}d=e?function(a,b){a.__proto__=b;if(a.__proto__!==b)throw new TypeError(a+\" is not extensible\");return a}:null}var h=d;var k={};var l=function(){},m=function(a,b){if(b!==k)throw Error(\"Bad secret\");this.g=a};m.prototype=c(l.prototype);m.prototype.constructor=m;if(h)h(m,l);else for(var n in l)if(\"prototype\"!=n)if(Object.defineProperties){var p=Object.getOwnPropertyDescriptor(l,n);p&&Object.defineProperty(m,n,p)}else m[n]=l[n];m.prototype.toString=function(){return this.g};var q=new m(\"about:invalid#zTSz\",k);var r=function(a){this.h=a};function t(a){return new r(function(b){return b.substr(0,a.length+1).toLowerCase()===a+\":\"})}var u=[t(\"data\"),t(\"http\"),t(\"https\"),t(\"mailto\"),t(\"ftp\"),new r(function(a){return/^[^:]*([/?#]|$)/.test(a)})];var w=function(a,b){this.g=b===v?a:\"\"};w.prototype.toString=function(){return this.g.toString()};var v={};function x(a){if(a instanceof l)if(a instanceof m)a=a.g;else throw Error(\"wrong type\");else a=a instanceof w&&a.constructor===w?a.g:\"type_error:SafeUrl\";return a};var y=window.location,z=((new RegExp(\"^[_\\\\\\\\-\\\\\\\\/A-Za-z0-9]*(current|\"+\"9.139.0.0\".replace(\".\",\"\\\\\\\\.\").replace(\"-\",\"\\\\\\\\-\")+\")\\\\\\\\/(index[_\\\\\\\\-A-Za-z0-9v]*\\\\\\\\.html)?\")).test(window.location.pathname)?\"app_min.html\":\"9.139.0.0/app_min.html\")+window.location.search+window.location.hash,A;A=void 0===A?u:A;var B;a:{var C=A;C=void 0===C?u:C;for(var D=0;D<C.length;++D){var E=C[D];if(E instanceof r&&E.h(z)){B=new m(z,k);break a}}B=void 0}y.replace(x(B||q));\\n</script></body></html>'\n"
     ]
    }
   ],
   "source": [
    "from fake_useragent import UserAgent\n",
    "import requests\n",
    "import urllib\n",
    "from bs4 import BeautifulSoup\n",
    "\n",
    "ua = 'Mozilla/5.0 (X11; Linux x86_64) AppleWebKit/537.36 (KHTML, like Gecko) Chrome/91.0.4472.106 Safari/537.36'\n",
    "url = 'https://earth.google.com/web/@55.0133609,82.95021825,161.52390139a,221.55833434d,35y,-0.05610614h,0.06723836t,-0r/data=CiQSIhIgZDY1OGRjYWIzNjlhMTFlOGFjNmU2OWJjN2I2ZDI2Y2E'\n",
    "res = requests.get(url, headers={'User-Agent': ua})\n",
    "print(res)"
   ]
  },
  {
   "cell_type": "code",
   "execution_count": 3,
   "metadata": {},
   "outputs": [
    {
     "name": "stderr",
     "output_type": "stream",
     "text": [
      "\n",
      "\n",
      "====== WebDriver manager ======\n"
     ]
    },
    {
     "ename": "ValueError",
     "evalue": "Could not get version for Chrome with this command: google-chrome --version || google-chrome-stable --version",
     "output_type": "error",
     "traceback": [
      "\u001b[0;31m---------------------------------------------------------------------------\u001b[0m",
      "\u001b[0;31mValueError\u001b[0m                                Traceback (most recent call last)",
      "\u001b[0;32m<ipython-input-3-2f3e3d663307>\u001b[0m in \u001b[0;36m<module>\u001b[0;34m\u001b[0m\n\u001b[1;32m      8\u001b[0m \u001b[0;31m#url = 'https://earth.google.com/web/@55.01307508,82.95062982,160.60168314a,3198.03588862d,35y,359.9581162h,0t,0r/data=CjkSNxIgZDY1OGRjYWIzNjlhMTFlOGFjNmU2OWJjN2I2ZDI2Y2EiE2xheWVyXzNkY292ZXJfcGFuZWw'\u001b[0m\u001b[0;34m\u001b[0m\u001b[0;34m\u001b[0m\u001b[0;34m\u001b[0m\u001b[0m\n\u001b[1;32m      9\u001b[0m \u001b[0murl\u001b[0m \u001b[0;34m=\u001b[0m \u001b[0;34m'https://earth.google.com/web/@55.01204508,82.95062982,160.60168314a,3198.03588862d,35y,359.9581162h,0t,0r/data=CjkSNxIgZDY1OGRjYWIzNjlhMTFlOGFjNmU2OWJjN2I2ZDI2Y2EiE2xheWVyXzNkY292ZXJfcGFuZWw'\u001b[0m\u001b[0;34m\u001b[0m\u001b[0;34m\u001b[0m\u001b[0m\n\u001b[0;32m---> 10\u001b[0;31m \u001b[0mdriver\u001b[0m \u001b[0;34m=\u001b[0m \u001b[0mwebdriver\u001b[0m\u001b[0;34m.\u001b[0m\u001b[0mChrome\u001b[0m\u001b[0;34m(\u001b[0m\u001b[0mChromeDriverManager\u001b[0m\u001b[0;34m(\u001b[0m\u001b[0mversion\u001b[0m\u001b[0;34m=\u001b[0m\u001b[0;34m\"91.0.4472.19\"\u001b[0m\u001b[0;34m)\u001b[0m\u001b[0;34m.\u001b[0m\u001b[0minstall\u001b[0m\u001b[0;34m(\u001b[0m\u001b[0;34m)\u001b[0m\u001b[0;34m)\u001b[0m\u001b[0;34m\u001b[0m\u001b[0;34m\u001b[0m\u001b[0m\n\u001b[0m\u001b[1;32m     11\u001b[0m \u001b[0mdriver\u001b[0m\u001b[0;34m.\u001b[0m\u001b[0mget\u001b[0m\u001b[0;34m(\u001b[0m\u001b[0murl\u001b[0m\u001b[0;34m)\u001b[0m\u001b[0;34m\u001b[0m\u001b[0;34m\u001b[0m\u001b[0m\n\u001b[1;32m     12\u001b[0m \u001b[0mtime\u001b[0m\u001b[0;34m.\u001b[0m\u001b[0msleep\u001b[0m\u001b[0;34m(\u001b[0m\u001b[0;36m10\u001b[0m\u001b[0;34m)\u001b[0m\u001b[0;34m\u001b[0m\u001b[0;34m\u001b[0m\u001b[0m\n",
      "\u001b[0;32m/home/ruslan/snap/jupyter/common/lib/python3.7/site-packages/webdriver_manager/chrome.py\u001b[0m in \u001b[0;36m__init__\u001b[0;34m(self, version, os_type, path, name, url, latest_release_url, chrome_type, log_level, print_first_line, cache_valid_range)\u001b[0m\n\u001b[1;32m     28\u001b[0m                                    \u001b[0murl\u001b[0m\u001b[0;34m=\u001b[0m\u001b[0murl\u001b[0m\u001b[0;34m,\u001b[0m\u001b[0;34m\u001b[0m\u001b[0;34m\u001b[0m\u001b[0m\n\u001b[1;32m     29\u001b[0m                                    \u001b[0mlatest_release_url\u001b[0m\u001b[0;34m=\u001b[0m\u001b[0mlatest_release_url\u001b[0m\u001b[0;34m,\u001b[0m\u001b[0;34m\u001b[0m\u001b[0;34m\u001b[0m\u001b[0m\n\u001b[0;32m---> 30\u001b[0;31m                                    chrome_type=chrome_type)\n\u001b[0m\u001b[1;32m     31\u001b[0m \u001b[0;34m\u001b[0m\u001b[0m\n\u001b[1;32m     32\u001b[0m     \u001b[0;32mdef\u001b[0m \u001b[0minstall\u001b[0m\u001b[0;34m(\u001b[0m\u001b[0mself\u001b[0m\u001b[0;34m)\u001b[0m\u001b[0;34m:\u001b[0m\u001b[0;34m\u001b[0m\u001b[0;34m\u001b[0m\u001b[0m\n",
      "\u001b[0;32m/home/ruslan/snap/jupyter/common/lib/python3.7/site-packages/webdriver_manager/driver.py\u001b[0m in \u001b[0;36m__init__\u001b[0;34m(self, name, version, os_type, url, latest_release_url, chrome_type)\u001b[0m\n\u001b[1;32m     55\u001b[0m                                            latest_release_url)\n\u001b[1;32m     56\u001b[0m         \u001b[0mself\u001b[0m\u001b[0;34m.\u001b[0m\u001b[0mchrome_type\u001b[0m \u001b[0;34m=\u001b[0m \u001b[0mchrome_type\u001b[0m\u001b[0;34m\u001b[0m\u001b[0;34m\u001b[0m\u001b[0m\n\u001b[0;32m---> 57\u001b[0;31m         \u001b[0mself\u001b[0m\u001b[0;34m.\u001b[0m\u001b[0mbrowser_version\u001b[0m \u001b[0;34m=\u001b[0m \u001b[0mchrome_version\u001b[0m\u001b[0;34m(\u001b[0m\u001b[0mchrome_type\u001b[0m\u001b[0;34m)\u001b[0m\u001b[0;34m\u001b[0m\u001b[0;34m\u001b[0m\u001b[0m\n\u001b[0m\u001b[1;32m     58\u001b[0m \u001b[0;34m\u001b[0m\u001b[0m\n\u001b[1;32m     59\u001b[0m     \u001b[0;32mdef\u001b[0m \u001b[0mget_os_type\u001b[0m\u001b[0;34m(\u001b[0m\u001b[0mself\u001b[0m\u001b[0;34m)\u001b[0m\u001b[0;34m:\u001b[0m\u001b[0;34m\u001b[0m\u001b[0;34m\u001b[0m\u001b[0m\n",
      "\u001b[0;32m/home/ruslan/snap/jupyter/common/lib/python3.7/site-packages/webdriver_manager/utils.py\u001b[0m in \u001b[0;36mchrome_version\u001b[0;34m(browser_type)\u001b[0m\n\u001b[1;32m    153\u001b[0m \u001b[0;34m\u001b[0m\u001b[0m\n\u001b[1;32m    154\u001b[0m     \u001b[0;32mif\u001b[0m \u001b[0;32mnot\u001b[0m \u001b[0mversion\u001b[0m\u001b[0;34m:\u001b[0m\u001b[0;34m\u001b[0m\u001b[0;34m\u001b[0m\u001b[0m\n\u001b[0;32m--> 155\u001b[0;31m         \u001b[0;32mraise\u001b[0m \u001b[0mValueError\u001b[0m\u001b[0;34m(\u001b[0m\u001b[0;34mf'Could not get version for Chrome with this command: {cmd}'\u001b[0m\u001b[0;34m)\u001b[0m\u001b[0;34m\u001b[0m\u001b[0;34m\u001b[0m\u001b[0m\n\u001b[0m\u001b[1;32m    156\u001b[0m     \u001b[0mcurrent_version\u001b[0m \u001b[0;34m=\u001b[0m \u001b[0mversion\u001b[0m\u001b[0;34m.\u001b[0m\u001b[0mgroup\u001b[0m\u001b[0;34m(\u001b[0m\u001b[0;36m0\u001b[0m\u001b[0;34m)\u001b[0m\u001b[0;34m\u001b[0m\u001b[0;34m\u001b[0m\u001b[0m\n\u001b[1;32m    157\u001b[0m     \u001b[0;32mreturn\u001b[0m \u001b[0mcurrent_version\u001b[0m\u001b[0;34m\u001b[0m\u001b[0;34m\u001b[0m\u001b[0m\n",
      "\u001b[0;31mValueError\u001b[0m: Could not get version for Chrome with this command: google-chrome --version || google-chrome-stable --version"
     ]
    }
   ],
   "source": [
    "from selenium import webdriver\n",
    "from webdriver_manager.chrome import ChromeDriverManager\n",
    "from selenium.webdriver.common.keys import Keys\n",
    "import time\n",
    "#import pyautogui\n",
    "\n",
    "\n",
    "#url = 'https://earth.google.com/web/@55.01307508,82.95062982,160.60168314a,3198.03588862d,35y,359.9581162h,0t,0r/data=CjkSNxIgZDY1OGRjYWIzNjlhMTFlOGFjNmU2OWJjN2I2ZDI2Y2EiE2xheWVyXzNkY292ZXJfcGFuZWw'\n",
    "url = 'https://earth.google.com/web/@55.01204508,82.95062982,160.60168314a,3198.03588862d,35y,359.9581162h,0t,0r/data=CjkSNxIgZDY1OGRjYWIzNjlhMTFlOGFjNmU2OWJjN2I2ZDI2Y2EiE2xheWVyXzNkY292ZXJfcGFuZWw'\n",
    "driver = webdriver.Chrome(ChromeDriverManager(version=\"91.0.4472.19\").install())\n",
    "driver.get(url)\n",
    "time.sleep(10)\n",
    "pyautogui.press('ESC')\n",
    "for i in range(12):\n",
    "    pyautogui.press('TAB')\n",
    "    time.sleep(1)\n",
    "for i in range(50):\n",
    "    pyautogui.press('right')\n",
    "pyautogui.press('left')\n",
    "# item = driver.execute_script(\"document.getElementById('pointer-information')\")\n",
    "# print(item)\n",
    "\n",
    "#driver.page_source\n",
    "#driver.find_element_by_id(\"pointer-information\")\n",
    "#driver.find_element_by_xpath(\"/html/body/earth-app//paper-drawer-panel/div/div/earth-view-status//div[7]/span/span[2]\")\n"
   ]
  },
  {
   "cell_type": "code",
   "execution_count": 1,
   "metadata": {},
   "outputs": [
    {
     "ename": "NameError",
     "evalue": "name 'ChromeDriverManager' is not defined",
     "output_type": "error",
     "traceback": [
      "\u001b[0;31m---------------------------------------------------------------------------\u001b[0m",
      "\u001b[0;31mNameError\u001b[0m                                 Traceback (most recent call last)",
      "\u001b[0;32m<ipython-input-1-041fa3b51306>\u001b[0m in \u001b[0;36m<module>\u001b[0;34m\u001b[0m\n\u001b[1;32m      1\u001b[0m \u001b[0;32mfrom\u001b[0m \u001b[0mselenium\u001b[0m \u001b[0;32mimport\u001b[0m \u001b[0mwebdriver\u001b[0m\u001b[0;34m\u001b[0m\u001b[0;34m\u001b[0m\u001b[0m\n\u001b[0;32m----> 2\u001b[0;31m \u001b[0mdriver\u001b[0m \u001b[0;34m=\u001b[0m \u001b[0mwebdriver\u001b[0m\u001b[0;34m.\u001b[0m\u001b[0mChrome\u001b[0m\u001b[0;34m(\u001b[0m\u001b[0mChromeDriverManager\u001b[0m\u001b[0;34m(\u001b[0m\u001b[0mversion\u001b[0m\u001b[0;34m=\u001b[0m\u001b[0;34m\"91.0.4472.19\"\u001b[0m\u001b[0;34m)\u001b[0m\u001b[0;34m.\u001b[0m\u001b[0minstall\u001b[0m\u001b[0;34m(\u001b[0m\u001b[0;34m)\u001b[0m\u001b[0;34m)\u001b[0m\u001b[0;34m\u001b[0m\u001b[0;34m\u001b[0m\u001b[0m\n\u001b[0m\u001b[1;32m      3\u001b[0m \u001b[0mdriver\u001b[0m\u001b[0;34m.\u001b[0m\u001b[0mget\u001b[0m\u001b[0;34m(\u001b[0m\u001b[0;34m\"http://stackoverflow.com/questions/7794087/running-javascript-in-selenium-using-python\"\u001b[0m\u001b[0;34m)\u001b[0m\u001b[0;34m\u001b[0m\u001b[0;34m\u001b[0m\u001b[0m\n\u001b[1;32m      4\u001b[0m \u001b[0mitem\u001b[0m \u001b[0;34m=\u001b[0m \u001b[0mdriver\u001b[0m\u001b[0;34m.\u001b[0m\u001b[0mexecute_script\u001b[0m\u001b[0;34m(\u001b[0m\u001b[0;34m\"document.getElementsByClassName('comment-user')[0]\"\u001b[0m\u001b[0;34m)\u001b[0m\u001b[0;34m\u001b[0m\u001b[0;34m\u001b[0m\u001b[0m\n",
      "\u001b[0;31mNameError\u001b[0m: name 'ChromeDriverManager' is not defined"
     ]
    }
   ],
   "source": [
    "from selenium import webdriver\n",
    "driver = webdriver.Chrome(ChromeDriverManager(version=\"91.0.4472.19\").install())\n",
    "driver.get(\"http://stackoverflow.com/questions/7794087/running-javascript-in-selenium-using-python\") \n",
    "item = driver.execute_script(\"document.getElementsByClassName('comment-user')[0]\")\n"
   ]
  },
  {
   "cell_type": "code",
   "execution_count": null,
   "metadata": {},
   "outputs": [],
   "source": []
  },
  {
   "cell_type": "markdown",
   "metadata": {},
   "source": [
    "# Elevation Parsing"
   ]
  },
  {
   "cell_type": "code",
   "execution_count": 13,
   "metadata": {},
   "outputs": [
    {
     "name": "stderr",
     "output_type": "stream",
     "text": [
      "\n",
      "\n",
      "====== WebDriver manager ======\n"
     ]
    },
    {
     "name": "stdout",
     "output_type": "stream",
     "text": [
      "https://votetovid.ru/#55.0166,82.9544,16z,55.018772,82.954974i,trb\n"
     ]
    },
    {
     "ename": "ValueError",
     "evalue": "Could not get version for Chrome with this command: google-chrome --version || google-chrome-stable --version",
     "output_type": "error",
     "traceback": [
      "\u001b[0;31m---------------------------------------------------------------------------\u001b[0m",
      "\u001b[0;31mValueError\u001b[0m                                Traceback (most recent call last)",
      "\u001b[0;32m<ipython-input-13-8dce4f4437c8>\u001b[0m in \u001b[0;36m<module>\u001b[0;34m\u001b[0m\n\u001b[1;32m     17\u001b[0m       \u001b[0;34m+\u001b[0m \u001b[0mstr\u001b[0m\u001b[0;34m(\u001b[0m\u001b[0mpointLon\u001b[0m\u001b[0;34m)\u001b[0m \u001b[0;34m+\u001b[0m \u001b[0mcomma\u001b[0m \u001b[0;34m+\u001b[0m \u001b[0mstr\u001b[0m\u001b[0;34m(\u001b[0m\u001b[0mpointLat\u001b[0m\u001b[0;34m)\u001b[0m \u001b[0;34m+\u001b[0m \u001b[0mi\u001b[0m \u001b[0;34m+\u001b[0m \u001b[0mcomma\u001b[0m \u001b[0;34m+\u001b[0m \u001b[0mtrb\u001b[0m\u001b[0;34m\u001b[0m\u001b[0;34m\u001b[0m\u001b[0m\n\u001b[1;32m     18\u001b[0m \u001b[0mprint\u001b[0m\u001b[0;34m(\u001b[0m\u001b[0murl\u001b[0m\u001b[0;34m)\u001b[0m\u001b[0;34m\u001b[0m\u001b[0;34m\u001b[0m\u001b[0m\n\u001b[0;32m---> 19\u001b[0;31m \u001b[0mdriver\u001b[0m \u001b[0;34m=\u001b[0m \u001b[0mwebdriver\u001b[0m\u001b[0;34m.\u001b[0m\u001b[0mChrome\u001b[0m\u001b[0;34m(\u001b[0m\u001b[0mChromeDriverManager\u001b[0m\u001b[0;34m(\u001b[0m\u001b[0mversion\u001b[0m\u001b[0;34m=\u001b[0m\u001b[0;34m\"91.0.4472.19\"\u001b[0m\u001b[0;34m)\u001b[0m\u001b[0;34m.\u001b[0m\u001b[0minstall\u001b[0m\u001b[0;34m(\u001b[0m\u001b[0;34m)\u001b[0m\u001b[0;34m)\u001b[0m\u001b[0;34m\u001b[0m\u001b[0;34m\u001b[0m\u001b[0m\n\u001b[0m\u001b[1;32m     20\u001b[0m \u001b[0mdriver\u001b[0m\u001b[0;34m.\u001b[0m\u001b[0mget\u001b[0m\u001b[0;34m(\u001b[0m\u001b[0murl\u001b[0m\u001b[0;34m)\u001b[0m\u001b[0;34m\u001b[0m\u001b[0;34m\u001b[0m\u001b[0m\n\u001b[1;32m     21\u001b[0m \u001b[0mhtml_\u001b[0m \u001b[0;34m=\u001b[0m \u001b[0mdriver\u001b[0m\u001b[0;34m.\u001b[0m\u001b[0mpage_source\u001b[0m\u001b[0;34m\u001b[0m\u001b[0;34m\u001b[0m\u001b[0m\n",
      "\u001b[0;32m/home/ruslan/snap/jupyter/common/lib/python3.7/site-packages/webdriver_manager/chrome.py\u001b[0m in \u001b[0;36m__init__\u001b[0;34m(self, version, os_type, path, name, url, latest_release_url, chrome_type, log_level, print_first_line, cache_valid_range)\u001b[0m\n\u001b[1;32m     28\u001b[0m                                    \u001b[0murl\u001b[0m\u001b[0;34m=\u001b[0m\u001b[0murl\u001b[0m\u001b[0;34m,\u001b[0m\u001b[0;34m\u001b[0m\u001b[0;34m\u001b[0m\u001b[0m\n\u001b[1;32m     29\u001b[0m                                    \u001b[0mlatest_release_url\u001b[0m\u001b[0;34m=\u001b[0m\u001b[0mlatest_release_url\u001b[0m\u001b[0;34m,\u001b[0m\u001b[0;34m\u001b[0m\u001b[0;34m\u001b[0m\u001b[0m\n\u001b[0;32m---> 30\u001b[0;31m                                    chrome_type=chrome_type)\n\u001b[0m\u001b[1;32m     31\u001b[0m \u001b[0;34m\u001b[0m\u001b[0m\n\u001b[1;32m     32\u001b[0m     \u001b[0;32mdef\u001b[0m \u001b[0minstall\u001b[0m\u001b[0;34m(\u001b[0m\u001b[0mself\u001b[0m\u001b[0;34m)\u001b[0m\u001b[0;34m:\u001b[0m\u001b[0;34m\u001b[0m\u001b[0;34m\u001b[0m\u001b[0m\n",
      "\u001b[0;32m/home/ruslan/snap/jupyter/common/lib/python3.7/site-packages/webdriver_manager/driver.py\u001b[0m in \u001b[0;36m__init__\u001b[0;34m(self, name, version, os_type, url, latest_release_url, chrome_type)\u001b[0m\n\u001b[1;32m     55\u001b[0m                                            latest_release_url)\n\u001b[1;32m     56\u001b[0m         \u001b[0mself\u001b[0m\u001b[0;34m.\u001b[0m\u001b[0mchrome_type\u001b[0m \u001b[0;34m=\u001b[0m \u001b[0mchrome_type\u001b[0m\u001b[0;34m\u001b[0m\u001b[0;34m\u001b[0m\u001b[0m\n\u001b[0;32m---> 57\u001b[0;31m         \u001b[0mself\u001b[0m\u001b[0;34m.\u001b[0m\u001b[0mbrowser_version\u001b[0m \u001b[0;34m=\u001b[0m \u001b[0mchrome_version\u001b[0m\u001b[0;34m(\u001b[0m\u001b[0mchrome_type\u001b[0m\u001b[0;34m)\u001b[0m\u001b[0;34m\u001b[0m\u001b[0;34m\u001b[0m\u001b[0m\n\u001b[0m\u001b[1;32m     58\u001b[0m \u001b[0;34m\u001b[0m\u001b[0m\n\u001b[1;32m     59\u001b[0m     \u001b[0;32mdef\u001b[0m \u001b[0mget_os_type\u001b[0m\u001b[0;34m(\u001b[0m\u001b[0mself\u001b[0m\u001b[0;34m)\u001b[0m\u001b[0;34m:\u001b[0m\u001b[0;34m\u001b[0m\u001b[0;34m\u001b[0m\u001b[0m\n",
      "\u001b[0;32m/home/ruslan/snap/jupyter/common/lib/python3.7/site-packages/webdriver_manager/utils.py\u001b[0m in \u001b[0;36mchrome_version\u001b[0;34m(browser_type)\u001b[0m\n\u001b[1;32m    153\u001b[0m \u001b[0;34m\u001b[0m\u001b[0m\n\u001b[1;32m    154\u001b[0m     \u001b[0;32mif\u001b[0m \u001b[0;32mnot\u001b[0m \u001b[0mversion\u001b[0m\u001b[0;34m:\u001b[0m\u001b[0;34m\u001b[0m\u001b[0;34m\u001b[0m\u001b[0m\n\u001b[0;32m--> 155\u001b[0;31m         \u001b[0;32mraise\u001b[0m \u001b[0mValueError\u001b[0m\u001b[0;34m(\u001b[0m\u001b[0;34mf'Could not get version for Chrome with this command: {cmd}'\u001b[0m\u001b[0;34m)\u001b[0m\u001b[0;34m\u001b[0m\u001b[0;34m\u001b[0m\u001b[0m\n\u001b[0m\u001b[1;32m    156\u001b[0m     \u001b[0mcurrent_version\u001b[0m \u001b[0;34m=\u001b[0m \u001b[0mversion\u001b[0m\u001b[0;34m.\u001b[0m\u001b[0mgroup\u001b[0m\u001b[0;34m(\u001b[0m\u001b[0;36m0\u001b[0m\u001b[0;34m)\u001b[0m\u001b[0;34m\u001b[0m\u001b[0;34m\u001b[0m\u001b[0m\n\u001b[1;32m    157\u001b[0m     \u001b[0;32mreturn\u001b[0m \u001b[0mcurrent_version\u001b[0m\u001b[0;34m\u001b[0m\u001b[0;34m\u001b[0m\u001b[0m\n",
      "\u001b[0;31mValueError\u001b[0m: Could not get version for Chrome with this command: google-chrome --version || google-chrome-stable --version"
     ]
    }
   ],
   "source": [
    "from selenium import webdriver\n",
    "from webdriver_manager.chrome import ChromeDriverManager\n",
    "from selenium.webdriver.common.keys import Keys\n",
    "import time\n",
    "from bs4 import BeautifulSoup\n",
    "\n",
    "\n",
    "#url = 'https://votetovid.ru/#55.0166,82.9544,16z,55.018772,82.954974i,trb'\n",
    "center = [55.0166, 82.9544]\n",
    "comma = ','\n",
    "zoom = '16z'\n",
    "pointLon = 55.018772\n",
    "pointLat = 82.954974\n",
    "i = \"i\"\n",
    "trb = 'trb'\n",
    "url = 'https://votetovid.ru/#' + str(center[0]) + comma + str(center[1]) + comma + zoom + comma \\\n",
    "      + str(pointLon) + comma + str(pointLat) + i + comma + trb\n",
    "print(url)\n",
    "driver = webdriver.Chrome(ChromeDriverManager(version=\"91.0.4472.19\").install())\n",
    "driver.get(url)\n",
    "html_ = driver.page_source\n",
    "soup = BeautifulSoup(html_, 'lxml')\n",
    "print( soup.find_all('span')[0].text )\n",
    "#driver.find_element_by_id(\"pointer-information\")\n",
    "#driver.find_element_by_xpath(\"/html/body/earth-app//paper-drawer-panel/div/div/earth-view-status//div[7]/span/span[2]\")\n"
   ]
  },
  {
   "cell_type": "code",
   "execution_count": 1,
   "metadata": {},
   "outputs": [],
   "source": [
    "import pyautogui\n",
    "\n",
    "\n",
    "pyautogui.press('F1')"
   ]
  },
  {
   "cell_type": "code",
   "execution_count": 20,
   "metadata": {},
   "outputs": [
    {
     "data": {
      "text/plain": [
       "<!DOCTYPE html>\n",
       "<html>\n",
       "<head>\n",
       "<title>Вот это вид! Карта высот, уклонов, видимости и красоты рельефа. Просмотр gpx + профиль рельефа.</title>\n",
       "<meta content=\"Карта красивых мест и уклонов рельефа Алтая, Хакасии, Казахстана, Монголии, Грузии и Крыма. Просмотр треков gpx и kml, построение профиля рельефа по маршруту.\" name=\"description\"/>\n",
       "<meta content=\"initial-scale=1.0, user-scalable=no\" name=\"viewport\"/>\n",
       "<meta charset=\"utf-8\"/>\n",
       "<link href=\"data:image/x-icon;base64,iVBORw0KGgoAAAANSUhEUgAAABAAAAAQEAYAAABPYyMiAAAABmJLR0T///////8JWPfcAAAACXBIWXMAAABIAAAASABGyWs+AAAAF0lEQVRIx2NgGAWjYBSMglEwCkbBSAcACBAAAeaR9cIAAAAASUVORK5CYII=\" rel=\"icon\" type=\"image/x-icon\"/>\n",
       "<link crossorigin=\"\" href=\"https://unpkg.com/leaflet@1.6.0/dist/leaflet.css\" integrity=\"sha512-xwE/Az9zrjBIphAcBb3F6JVqxf46+CDLwfLMHloNu6KEQCAWi6HcDUbeOfBIptF7tcCzusKFjFw2yuvEpDL9wQ==\" rel=\"stylesheet\"/>\n",
       "<script crossorigin=\"\" integrity=\"sha512-gZwIG9x3wUXg2hdXF6+rVkLF/0Vi9U8D2Ntg4Ga5I5BZpVkVxlJWbSQtXPSiUTtC0TjtGOmxa1AJPuV0CPthew==\" src=\"https://unpkg.com/leaflet@1.6.0/dist/leaflet.js\"></script>\n",
       "<script crossorigin=\"\" integrity=\"sha384-pTfDiyc6TOMIl5e4Jo3XeZj7HAvuZk7XXeorhQ9YCzfxYhP6q5CVxwcyjvq/G8R8\" src=\"https://unpkg.com/leaflet-editable@1.2.0/src/Leaflet.Editable.js\"></script>\n",
       "<link href=\"/s.css?edddff67fa5f437b\" rel=\"stylesheet\" type=\"text/css\"/>\n",
       "<style>.async-hide { opacity: 0 !important} </style>\n",
       "<script>(function(a,s,y,n,c,h,i,d,e){s.className+=' '+y;h.start=1*new Date;\n",
       "        h.end=i=function(){s.className=s.className.replace(RegExp(' ?'+y),'')};\n",
       "        (a[n]=a[n]||[]).hide=h;setTimeout(function(){i();h.end=null},c);h.timeout=c;\n",
       "        })(window,document.documentElement,'async-hide','dataLayer',4000,\n",
       "        {'GTM-TCSK895':true});</script>\n",
       "<script>\n",
       "            (function(i,s,o,g,r,a,m){i['GoogleAnalyticsObject']=r;i[r]=i[r]||function(){\n",
       "            (i[r].q=i[r].q||[]).push(arguments)},i[r].l=1*new Date();a=s.createElement(o),\n",
       "            m=s.getElementsByTagName(o)[0];a.async=1;a.src=g;m.parentNode.insertBefore(a,m)\n",
       "            })(window,document,'script','//www.google-analytics.com/analytics.js','ga');\n",
       "            ga('create', 'UA-70139986-1', 'auto');\n",
       "            ga('require', 'GTM-TCSK895');\n",
       "            ga('send', 'pageview');\n",
       "        </script>\n",
       "<script src=\"//yastatic.net/share2/share.js\" type=\"text/javascript\"></script>\n",
       "</head>\n",
       "<body>\n",
       "<div id=\"help\">\n",
       "<div id=\"helpCloseBtn\"></div>\n",
       "<div class=\"content\">\n",
       "<div style=\"float: right;\"><a href=\"http://sauropod.xyz/\">en</a> / <b>ru</b></div>\n",
       "<p><a href=\"https://youtu.be/7GnaSei_VWo\" target=\"_blank\">▶ Видеоинструкция</a></p>\n",
       "<h1>Что это такое</h1>\n",
       "<p>Эта карта показывает оцененную компьютерным алгоритмом по данным рельефа красоту вида,\n",
       "                открывающегося с каждой обработанной точки. Более тёплым цветам соответствуют более красивые места.</p>\n",
       "<p>На настоящий момент построены карты горного Алтая, Хакасии, Тывы и Кузбасса, Грузии и Крыма, а также части Казахстана, окрестностей Байкала,\n",
       "                Дальнего Востока, Монголии, Гималаев и Альп.</p>\n",
       "<p>Клавиша <b>Tab переключает карту подложки</b> с рельефа на спутник и обратно, <b>пробел переключает слои</b> видов и уклонов.</p>\n",
       "<p><b>Прозрачность дополнительных слоёв можно менять</b>, повторно нажимая на их кнопки слева вверху или вращая колёсико мышки с нажатым Ctrl\n",
       "                (а если навести на кнопку слоя, то можно и без Ctrl).</p>\n",
       "<h2>Как это работает</h2>\n",
       "<p><b>При клике на карту</b> открывается информационное окно, показывающее координаты указанной точки и позволяющее перейти к 3D-виду\n",
       "                в онлайн-версии Google Earth (ваша система должна соответствовать некоторым\n",
       "                <a href=\"https://support.google.com/maps/answer/3096703\" target=\"_blank\">требованиям</a>) или PeakFinder. При включенном слое видов\n",
       "                автоматически выбирается наилучшая точка поблизости от места клика, для отключения этой поправки нужно\n",
       "                в момент клика удерживать нажатой клавишу Ctrl.</p>\n",
       "<h2>Фотографии</h2>\n",
       "<p>Кнопка «Фото» включает отображение слоя фотографий Flickr. Единовременно показывается\n",
       "                ограниченное число наиболее популярных снимков. Зачастую эта популярность является просто\n",
       "                следствием доступности места, поэтому если в интересующем вас месте фотографий не отображается,\n",
       "                но вообще на экране их много, попробуйте приблизить карту, чтобы отсечь часть фотографий.</p>\n",
       "<p><small>Фотографии предоставлены Flickr. Права на фотографии принадлежат правообладателям фотографий.</small></p>\n",
       "<h1>А дальше?</h1>\n",
       "<p>Что, если красивое место хочется не только посмотреть в Google Maps, но и посетить лично (а это, как правило, стоит сделать)?\n",
       "                В этом может помочь слой уклонов рельефа, включающийся одной из кнопок слева вверху. Цвета означают примерно следующее\n",
       "                (в условиях сухой погоды и благоприятной для движения поверхности):</p>\n",
       "<ul>\n",
       "<li>Синий-зелёный: угол менее 15 градусов, уклон менее 25%. Скорее всего, можно подняться на машине.</li>\n",
       "<li>Зелёный-жёлтый: 15-20 градусов, уклон до 36%. Ещё можно ехать, но уже страшновато.</li>\n",
       "<li>Жёлтый-красный: 20-30 градусов, до 60%. Заехать иногда можно, но по возможности лучше этого избегать. Пешком ещё вполне идётся.</li>\n",
       "<li>Красный-фиолетовый: 30-36 градусов, до 72%. Уклон типичного эскалатора. Иногда уже приходится карабкаться, а не идти.</li>\n",
       "<li>Фиолетовый: от 36 градусов.</li>\n",
       "</ul>\n",
       "<p><b>Режим редактирования маршрута</b> включается и выключается нажатием кнопки «Маршрут». В режиме редактирования клики по карте\n",
       "                добавляют точки к маршруту, удаляются точки правым кликом. Построив маршрут, можно появившейся кнопкой выгрузить его в формате gpx\n",
       "                или переслать, просто скопировав целиком адрес из адресной строки браузера.</p>\n",
       "<p><b>Режим расстановки маркеров</b> включается и выключается клавишей «m». Как и маршрут, маркеры сохраняются в адресе страницы.</p>\n",
       "<p>Связаться с автором можно по адресу <a href=\"mailto:mivlad@gmail.com\">mivlad@gmail.com</a> или на <a href=\"http://forum.votetovid.ru/\">форуме</a>.</p>\n",
       "</div>\n",
       "</div>\n",
       "<div id=\"helpBtn\">?</div>\n",
       "<div id=\"map\"></div>\n",
       "<script src=\"/lang-ru.js?b1dcdb0e18f52aab\"></script>\n",
       "<script src=\"/script.js?3e06e6021f6f8155\"></script>\n",
       "<!-- Yandex.Metrika counter --><script type=\"text/javascript\"> (function (d, w, c) { (w[c] = w[c] || []).push(function() { try { w.yaCounter33823089 = new Ya.Metrika({ id:33823089, clickmap:true, trackLinks:true, accurateTrackBounce:true, trackHash:true }); } catch(e) { } }); var n = d.getElementsByTagName(\"script\")[0], s = d.createElement(\"script\"), f = function () { n.parentNode.insertBefore(s, n); }; s.type = \"text/javascript\"; s.async = true; s.src = \"https://mc.yandex.ru/metrika/watch.js\"; if (w.opera == \"[object Opera]\") { d.addEventListener(\"DOMContentLoaded\", f, false); } else { f(); } })(document, window, \"yandex_metrika_callbacks\");</script><noscript><div><img alt=\"\" src=\"https://mc.yandex.ru/watch/33823089\" style=\"position:absolute; left:-9999px;\"/></div></noscript><!-- /Yandex.Metrika counter -->\n",
       "</body>\n",
       "</html>"
      ]
     },
     "execution_count": 20,
     "metadata": {},
     "output_type": "execute_result"
    }
   ],
   "source": [
    "from bs4 import BeautifulSoup\n",
    "import requests\n",
    "\n",
    "def get_html(url):\n",
    "    response = requests.get(url)\n",
    "    response.encoding = 'utf-8'\n",
    "    return response.text\n",
    "\n",
    "url = 'https://votetovid.ru/#55.0166,82.9544,16z,55.018772,82.954974i,trb'\n",
    "html = get_html(url)\n",
    "soup = BeautifulSoup(html, 'lxml')\n",
    "#soup.find_all('div', class_='leaflet-pane leaflet-popup-pane')\n",
    "soup"
   ]
  },
  {
   "cell_type": "markdown",
   "metadata": {},
   "source": [
    "# 2GIS Parsing"
   ]
  },
  {
   "cell_type": "code",
   "execution_count": 4,
   "metadata": {},
   "outputs": [
    {
     "name": "stderr",
     "output_type": "stream",
     "text": [
      "\n",
      "\n",
      "====== WebDriver manager ======\n"
     ]
    },
    {
     "name": "stdout",
     "output_type": "stream",
     "text": [
      "https://2gis.ru/novosibirsk/geo/141398913319040/82.942826%2C55.014704?m=82.947836%2C55.013203%2F16\n"
     ]
    },
    {
     "ename": "ValueError",
     "evalue": "Could not get version for Chrome with this command: google-chrome --version || google-chrome-stable --version",
     "output_type": "error",
     "traceback": [
      "\u001b[0;31m---------------------------------------------------------------------------\u001b[0m",
      "\u001b[0;31mValueError\u001b[0m                                Traceback (most recent call last)",
      "\u001b[0;32m<ipython-input-4-871252e146f0>\u001b[0m in \u001b[0;36m<module>\u001b[0;34m\u001b[0m\n\u001b[1;32m      7\u001b[0m \u001b[0murl\u001b[0m \u001b[0;34m=\u001b[0m \u001b[0;34m'https://2gis.ru/novosibirsk/geo/141398913319040/82.942826%2C55.014704?m=82.947836%2C55.013203%2F16'\u001b[0m\u001b[0;34m\u001b[0m\u001b[0;34m\u001b[0m\u001b[0m\n\u001b[1;32m      8\u001b[0m \u001b[0mprint\u001b[0m\u001b[0;34m(\u001b[0m\u001b[0murl\u001b[0m\u001b[0;34m)\u001b[0m\u001b[0;34m\u001b[0m\u001b[0;34m\u001b[0m\u001b[0m\n\u001b[0;32m----> 9\u001b[0;31m \u001b[0mdriver\u001b[0m \u001b[0;34m=\u001b[0m \u001b[0mwebdriver\u001b[0m\u001b[0;34m.\u001b[0m\u001b[0mChrome\u001b[0m\u001b[0;34m(\u001b[0m\u001b[0mChromeDriverManager\u001b[0m\u001b[0;34m(\u001b[0m\u001b[0mversion\u001b[0m\u001b[0;34m=\u001b[0m\u001b[0;34m\"91.0.4472.19\"\u001b[0m\u001b[0;34m)\u001b[0m\u001b[0;34m.\u001b[0m\u001b[0minstall\u001b[0m\u001b[0;34m(\u001b[0m\u001b[0;34m)\u001b[0m\u001b[0;34m)\u001b[0m\u001b[0;34m\u001b[0m\u001b[0;34m\u001b[0m\u001b[0m\n\u001b[0m\u001b[1;32m     10\u001b[0m \u001b[0mdriver\u001b[0m\u001b[0;34m.\u001b[0m\u001b[0mget\u001b[0m\u001b[0;34m(\u001b[0m\u001b[0murl\u001b[0m\u001b[0;34m)\u001b[0m\u001b[0;34m\u001b[0m\u001b[0;34m\u001b[0m\u001b[0m\n\u001b[1;32m     11\u001b[0m \u001b[0mhtml_\u001b[0m \u001b[0;34m=\u001b[0m \u001b[0mdriver\u001b[0m\u001b[0;34m.\u001b[0m\u001b[0mpage_source\u001b[0m\u001b[0;34m\u001b[0m\u001b[0;34m\u001b[0m\u001b[0m\n",
      "\u001b[0;32m/home/ruslan/snap/jupyter/common/lib/python3.7/site-packages/webdriver_manager/chrome.py\u001b[0m in \u001b[0;36m__init__\u001b[0;34m(self, version, os_type, path, name, url, latest_release_url, chrome_type, log_level, print_first_line, cache_valid_range)\u001b[0m\n\u001b[1;32m     28\u001b[0m                                    \u001b[0murl\u001b[0m\u001b[0;34m=\u001b[0m\u001b[0murl\u001b[0m\u001b[0;34m,\u001b[0m\u001b[0;34m\u001b[0m\u001b[0;34m\u001b[0m\u001b[0m\n\u001b[1;32m     29\u001b[0m                                    \u001b[0mlatest_release_url\u001b[0m\u001b[0;34m=\u001b[0m\u001b[0mlatest_release_url\u001b[0m\u001b[0;34m,\u001b[0m\u001b[0;34m\u001b[0m\u001b[0;34m\u001b[0m\u001b[0m\n\u001b[0;32m---> 30\u001b[0;31m                                    chrome_type=chrome_type)\n\u001b[0m\u001b[1;32m     31\u001b[0m \u001b[0;34m\u001b[0m\u001b[0m\n\u001b[1;32m     32\u001b[0m     \u001b[0;32mdef\u001b[0m \u001b[0minstall\u001b[0m\u001b[0;34m(\u001b[0m\u001b[0mself\u001b[0m\u001b[0;34m)\u001b[0m\u001b[0;34m:\u001b[0m\u001b[0;34m\u001b[0m\u001b[0;34m\u001b[0m\u001b[0m\n",
      "\u001b[0;32m/home/ruslan/snap/jupyter/common/lib/python3.7/site-packages/webdriver_manager/driver.py\u001b[0m in \u001b[0;36m__init__\u001b[0;34m(self, name, version, os_type, url, latest_release_url, chrome_type)\u001b[0m\n\u001b[1;32m     55\u001b[0m                                            latest_release_url)\n\u001b[1;32m     56\u001b[0m         \u001b[0mself\u001b[0m\u001b[0;34m.\u001b[0m\u001b[0mchrome_type\u001b[0m \u001b[0;34m=\u001b[0m \u001b[0mchrome_type\u001b[0m\u001b[0;34m\u001b[0m\u001b[0;34m\u001b[0m\u001b[0m\n\u001b[0;32m---> 57\u001b[0;31m         \u001b[0mself\u001b[0m\u001b[0;34m.\u001b[0m\u001b[0mbrowser_version\u001b[0m \u001b[0;34m=\u001b[0m \u001b[0mchrome_version\u001b[0m\u001b[0;34m(\u001b[0m\u001b[0mchrome_type\u001b[0m\u001b[0;34m)\u001b[0m\u001b[0;34m\u001b[0m\u001b[0;34m\u001b[0m\u001b[0m\n\u001b[0m\u001b[1;32m     58\u001b[0m \u001b[0;34m\u001b[0m\u001b[0m\n\u001b[1;32m     59\u001b[0m     \u001b[0;32mdef\u001b[0m \u001b[0mget_os_type\u001b[0m\u001b[0;34m(\u001b[0m\u001b[0mself\u001b[0m\u001b[0;34m)\u001b[0m\u001b[0;34m:\u001b[0m\u001b[0;34m\u001b[0m\u001b[0;34m\u001b[0m\u001b[0m\n",
      "\u001b[0;32m/home/ruslan/snap/jupyter/common/lib/python3.7/site-packages/webdriver_manager/utils.py\u001b[0m in \u001b[0;36mchrome_version\u001b[0;34m(browser_type)\u001b[0m\n\u001b[1;32m    153\u001b[0m \u001b[0;34m\u001b[0m\u001b[0m\n\u001b[1;32m    154\u001b[0m     \u001b[0;32mif\u001b[0m \u001b[0;32mnot\u001b[0m \u001b[0mversion\u001b[0m\u001b[0;34m:\u001b[0m\u001b[0;34m\u001b[0m\u001b[0;34m\u001b[0m\u001b[0m\n\u001b[0;32m--> 155\u001b[0;31m         \u001b[0;32mraise\u001b[0m \u001b[0mValueError\u001b[0m\u001b[0;34m(\u001b[0m\u001b[0;34mf'Could not get version for Chrome with this command: {cmd}'\u001b[0m\u001b[0;34m)\u001b[0m\u001b[0;34m\u001b[0m\u001b[0;34m\u001b[0m\u001b[0m\n\u001b[0m\u001b[1;32m    156\u001b[0m     \u001b[0mcurrent_version\u001b[0m \u001b[0;34m=\u001b[0m \u001b[0mversion\u001b[0m\u001b[0;34m.\u001b[0m\u001b[0mgroup\u001b[0m\u001b[0;34m(\u001b[0m\u001b[0;36m0\u001b[0m\u001b[0;34m)\u001b[0m\u001b[0;34m\u001b[0m\u001b[0;34m\u001b[0m\u001b[0m\n\u001b[1;32m    157\u001b[0m     \u001b[0;32mreturn\u001b[0m \u001b[0mcurrent_version\u001b[0m\u001b[0;34m\u001b[0m\u001b[0;34m\u001b[0m\u001b[0m\n",
      "\u001b[0;31mValueError\u001b[0m: Could not get version for Chrome with this command: google-chrome --version || google-chrome-stable --version"
     ]
    }
   ],
   "source": [
    "from selenium import webdriver\n",
    "from webdriver_manager.chrome import ChromeDriverManager\n",
    "from selenium.webdriver.common.keys import Keys\n",
    "import time\n",
    "from bs4 import BeautifulSoup\n",
    "\n",
    "url = 'https://2gis.ru/novosibirsk/geo/141398913319040/82.942826%2C55.014704?m=82.947836%2C55.013203%2F16'\n",
    "print(url)\n",
    "driver = webdriver.Chrome(ChromeDriverManager(version=\"91.0.4472.19\").install())\n",
    "driver.get(url)\n",
    "html_ = driver.page_source\n",
    "soup = BeautifulSoup(html_, 'lxml')\n",
    "print( soup )"
   ]
  },
  {
   "cell_type": "code",
   "execution_count": null,
   "metadata": {},
   "outputs": [],
   "source": []
  },
  {
   "cell_type": "code",
   "execution_count": null,
   "metadata": {},
   "outputs": [],
   "source": []
  },
  {
   "cell_type": "code",
   "execution_count": null,
   "metadata": {},
   "outputs": [],
   "source": []
  },
  {
   "cell_type": "code",
   "execution_count": null,
   "metadata": {},
   "outputs": [],
   "source": []
  }
 ],
 "metadata": {
  "kernelspec": {
   "display_name": "Python 3",
   "language": "python",
   "name": "python3"
  },
  "language_info": {
   "codemirror_mode": {
    "name": "ipython",
    "version": 3
   },
   "file_extension": ".py",
   "mimetype": "text/x-python",
   "name": "python",
   "nbconvert_exporter": "python",
   "pygments_lexer": "ipython3",
   "version": "3.7.3"
  }
 },
 "nbformat": 4,
 "nbformat_minor": 5
}
